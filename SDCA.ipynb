{
 "cells": [
  {
   "cell_type": "markdown",
   "metadata": {},
   "source": [
    "# Projet optimisation : algorithme SDCA"
   ]
  },
  {
   "cell_type": "markdown",
   "metadata": {},
   "source": [
    "Nous allons d'abord implémenter la version la plus classique de l'algorithme, avant de mettre en oeuvre les variantes et améliorations proposées dans http://www.jmlr.org/papers/volume14/shalev-shwartz13a/shalev-shwartz13a.pdf"
   ]
  },
  {
   "cell_type": "code",
   "execution_count": 1,
   "metadata": {
    "collapsed": false
   },
   "outputs": [
    {
     "name": "stdout",
     "output_type": "stream",
     "text": [
      "Populating the interactive namespace from numpy and matplotlib\n"
     ]
    }
   ],
   "source": [
    "%pylab inline\n",
    "import numpy as np"
   ]
  },
  {
   "cell_type": "code",
   "execution_count": 352,
   "metadata": {
    "collapsed": false
   },
   "outputs": [],
   "source": [
    "np.random.seed(0)\n",
    "\n",
    "def sigmoid(x):\n",
    "    return 1 / (1 + np.exp(-x))\n",
    "\n",
    "def binarize(x):\n",
    "    return np.sign(x-0.5)\n",
    "\n",
    "n_samples, n_features = 500, 20\n",
    "X = np.random.randn(n_samples, n_features)\n",
    "w = np.random.randn(n_features)\n",
    "b = binarize(sigmoid(X.dot(w) + 0*np.random.randn(n_samples)))\n",
    "step_size = 1 #1.0 / (3 * np.max((A * A).sum(1)))      #ici on travaille toujours avec un step_size constant\n",
    "\n",
    "#avec ces matr. A et B, on va résoudre un problème de minimisation (par les moindres carrés) de (||A*theta-b||^2)/(2n)\n",
    "\n",
    "from numba import njit\n",
    "\n",
    "def li(theta, i):\n",
    "    return max(0, 1 - b[i]*(X[i].dot(theta)))\n",
    "\n",
    "\n",
    "def l(theta):\n",
    "    return np.mean([li(theta,i) for i in range(n_samples)])\n",
    "               \n",
    "               \n",
    "def grad(theta):\n",
    "    return - A.T.dot(b - np.dot(A, theta))\n",
    "\n",
    "def partial_grad(theta, i):\n",
    "    return - A[i] * (b[i] - np.dot(A[i], theta))"
   ]
  },
  {
   "cell_type": "code",
   "execution_count": 353,
   "metadata": {
    "collapsed": false
   },
   "outputs": [],
   "source": [
    "def SDCA(T, lam):\n",
    "    alpha = np.zeros(n_samples)\n",
    "    w = (1/(lam*n_samples))*np.dot(X.T,alpha)\n",
    "    \n",
    "    grad_history = np.empty(shape=[T/100])\n",
    "    cost_history = np.empty(shape=[T/100])\n",
    "    \n",
    "    for t in range(0,T):\n",
    "        # .. pick random sample ..\n",
    "        idx = np.random.randint(0, n_samples)\n",
    "        \n",
    "        # on calcule les constantes A et B (utiles pour la résolution du delta alpha i)\n",
    "        A = (1/(lam*n_samples)) * np.linalg.norm(X[idx])**2\n",
    "        B = X[idx].T.dot(w)    \n",
    "        \n",
    "        y_i = b[idx]\n",
    "        delta_alpha_i_tilde = (y_i-B)/A        \n",
    "        delta_alpha_i = y_i * np.clip(y_i*(delta_alpha_i_tilde + alpha[idx]), a_min=0, a_max=1) - alpha[idx]\n",
    "        \n",
    "        alpha[idx] = alpha[idx] + delta_alpha_i\n",
    "    \n",
    "        w = (1/(lam*n_samples))*np.dot(X.T,alpha)\n",
    "        \n",
    "        if t % 100 == 0: \n",
    "            grad_history[t/100] = delta_alpha_i\n",
    "            cost_history[t/100] = l(w)\n",
    "        \n",
    "    return w, grad_history, cost_history\n",
    "        "
   ]
  },
  {
   "cell_type": "code",
   "execution_count": 354,
   "metadata": {
    "collapsed": false
   },
   "outputs": [],
   "source": [
    "theta, grad_history, cost_history = SDCA(10000,0.1)"
   ]
  },
  {
   "cell_type": "code",
   "execution_count": 355,
   "metadata": {
    "collapsed": false
   },
   "outputs": [
    {
     "data": {
      "text/plain": [
       "0.20535610165529733"
      ]
     },
     "execution_count": 355,
     "metadata": {},
     "output_type": "execute_result"
    }
   ],
   "source": [
    "l(theta)"
   ]
  },
  {
   "cell_type": "code",
   "execution_count": 356,
   "metadata": {
    "collapsed": false
   },
   "outputs": [
    {
     "data": {
      "text/plain": [
       "array([ -2.02117027e-01,  -8.33231001e-01,   1.73360025e+00,\n",
       "         1.90649004e-01,  -1.77810394e-01,  -1.08502512e+00,\n",
       "         9.72262333e-01,   1.43147168e+00,  -2.45073043e-01,\n",
       "        -6.23253810e-01,  -3.95998866e-01,  -1.35852240e+00,\n",
       "         1.32260253e+00,   3.44393843e-03,  -1.96770109e-04,\n",
       "         1.53370396e+00,  -7.73082248e-01,  -4.01254937e-01,\n",
       "        -1.15356764e-01,   1.01155545e+00])"
      ]
     },
     "execution_count": 356,
     "metadata": {},
     "output_type": "execute_result"
    }
   ],
   "source": [
    "w"
   ]
  },
  {
   "cell_type": "code",
   "execution_count": 357,
   "metadata": {
    "collapsed": false
   },
   "outputs": [
    {
     "data": {
      "text/plain": [
       "array([-0.08309172, -0.26444151,  0.65227634,  0.11542224, -0.09078421,\n",
       "       -0.44039876,  0.42508507,  0.59910145, -0.0601714 , -0.18754532,\n",
       "       -0.12091829, -0.54683435,  0.49944459,  0.06987245,  0.00862403,\n",
       "        0.68521453, -0.26321408, -0.08320276, -0.06989204,  0.30048477])"
      ]
     },
     "execution_count": 357,
     "metadata": {},
     "output_type": "execute_result"
    }
   ],
   "source": [
    "theta"
   ]
  },
  {
   "cell_type": "code",
   "execution_count": 358,
   "metadata": {
    "collapsed": false
   },
   "outputs": [
    {
     "data": {
      "image/png": "[encoded data removed]",
      "text/plain": [
       "<matplotlib.figure.Figure at 0xafe1eb8>"
      ]
     },
     "metadata": {},
     "output_type": "display_data"
    }
   ],
   "source": [
    "plt.plot(grad_history, lw=4)\n",
    "plt.grid()\n",
    "#plt.yscale('log')\n",
    "plt.ylabel('Function suboptimality')\n",
    "plt.xlabel('Number of epochs')\n",
    "plt.show()"
   ]
  },
  {
   "cell_type": "code",
   "execution_count": 359,
   "metadata": {
    "collapsed": false
   },
   "outputs": [
    {
     "data": {
      "image/png": "[encoded data removed]",
      "text/plain": [
       "<matplotlib.figure.Figure at 0xd4d8d68>"
      ]
     },
     "metadata": {},
     "output_type": "display_data"
    }
   ],
   "source": [
    "plt.plot(cost_history, lw=4)\n",
    "plt.grid()\n",
    "#plt.yscale('log')\n",
    "plt.ylabel('Function suboptimality')\n",
    "plt.xlabel('Number of epochs')\n",
    "plt.show()"
   ]
  },
  {
   "cell_type": "code",
   "execution_count": null,
   "metadata": {
    "collapsed": true
   },
   "outputs": [],
   "source": []
  }
 ],
 "metadata": {
  "kernelspec": {
   "display_name": "Python 2",
   "language": "python",
   "name": "python2"
  },
  "language_info": {
   "codemirror_mode": {
    "name": "ipython",
    "version": 2
   },
   "file_extension": ".py",
   "mimetype": "text/x-python",
   "name": "python",
   "nbconvert_exporter": "python",
   "pygments_lexer": "ipython2",
   "version": "2.7.13"
  }
 },
 "nbformat": 4,
 "nbformat_minor": 2
}
