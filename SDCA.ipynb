{
 "cells": [
  {
   "cell_type": "code",
   "execution_count": 10,
   "metadata": {
    "collapsed": false,
    "deletable": true,
    "editable": true
   },
   "outputs": [],
   "source": [
    "%matplotlib inline\n",
    "import numpy as np"
   ]
  },
  {
   "cell_type": "markdown",
   "metadata": {
    "deletable": true,
    "editable": true
   },
   "source": [
    "# Projet optimisation : algorithme SDCA"
   ]
  },
  {
   "cell_type": "markdown",
   "metadata": {},
   "source": [
    "Plan que je propose : \n",
    "\n",
    "On va se concentrer sur l'algorithme SVM avec régularisation LASSO. Etant donné que nous sommes exceptionnellement un groupe constitué de trois personnes, nous vous proposons le sujet 1 enrichi avec le sujet 3. Concrètement, nous allons implémenter 4 méthodes d'optimisations, puis les comparer sur la base de données ... (à choisir) :\n",
    "- Batch Proximal Gradient Descent (avec accéleration Nesterov, aka FISTA)\n",
    "- SDCA (avec eventuellement quelques optimisations présentées dans l'article)\n",
    "- SVRG\n",
    "- SAGA"
   ]
  },
  {
   "cell_type": "markdown",
   "metadata": {},
   "source": [
    "*[Partie 1 : Batch Proximal Gradient Descent](#section1)\n",
    "\n",
    "*[Partie 2 : SDCA](#section2)\n",
    "\n",
    "*[Partie 3 : SVRG](#section3)\n",
    "\n",
    "*[Partie 4 : SAGA](#section4)\n",
    "\n",
    "*[Partie 5 : Comparaison](#section1)"
   ]
  },
  {
   "cell_type": "markdown",
   "metadata": {},
   "source": [
    "# Définition des données"
   ]
  },
  {
   "cell_type": "markdown",
   "metadata": {},
   "source": [
    "On commence par définir les données de test (il faudra plus tard mettre les vraies données)"
   ]
  },
  {
   "cell_type": "code",
   "execution_count": 386,
   "metadata": {
    "collapsed": true
   },
   "outputs": [],
   "source": [
    "np.random.seed(0)\n",
    "\n",
    "def binarize(x):\n",
    "    return np.sign(x)\n",
    "\n",
    "n_samples, n_features = 1000, 2\n",
    "X = np.random.randn(n_samples, n_features)\n",
    "w = np.random.randn(n_features)\n",
    "b = binarize(X.dot(w) + 0 * np.random.randn(n_samples))"
   ]
  },
  {
   "cell_type": "markdown",
   "metadata": {},
   "source": [
    "On définit aussi les fonctions de couts et gradient"
   ]
  },
  {
   "cell_type": "code",
   "execution_count": 323,
   "metadata": {
    "collapsed": false
   },
   "outputs": [],
   "source": [
    "def f(theta, lam):\n",
    "    cost = 1-np.multiply(b,X.dot(theta))\n",
    "    cost[cost <= 0] = 0\n",
    "    return np.mean(cost) + lam * np.linalg.norm(theta, ord=1)\n",
    "\n",
    "\n",
    "def partial_grad(theta, i):\n",
    "    if b[i] * X[i].dot(theta) < 1:\n",
    "        return -b[i] * X[i]\n",
    "    return 0 * X[i] \n",
    "\n",
    "\n",
    "def grad(theta):\n",
    "    gradient = -np.multiply(b, X.T)\n",
    "    \n",
    "    gradient[:,np.multiply(b, X.dot(theta)) >= 1] = 0 * gradient[:,np.multiply(b, X.dot(theta)) >= 1]\n",
    "    #print(np.mean(gradient, axis=1))\n",
    "    return np.mean(gradient, axis=1)\n",
    "    #gradient = np.zeros(shape=[n_samples, n_features])\n",
    "    \n",
    "    #for i in range(n_samples):\n",
    "    #    gradient[i] = partial_grad(theta, i)\n",
    "    \n",
    "    #return np.mean(gradient, axis=0)\n",
    "    \n",
    "    #valeur_grad = -np.mean(b,X)\n",
    "    \n",
    "    #valeur_grad[np.multiply(b, X.dot(theta)) > 1] = 0\n",
    "    \n",
    "    #return valeur_grad"
   ]
  },
  {
   "cell_type": "markdown",
   "metadata": {},
   "source": [
    "<a id='section1'></a>\n",
    "Batch Proximal Gradient Descent"
   ]
  },
  {
   "cell_type": "code",
   "execution_count": 324,
   "metadata": {
    "collapsed": true
   },
   "outputs": [],
   "source": [
    "def PGD(T, lam):\n",
    "    # pas de la descente\n",
    "    # Lipschitz constant\n",
    "    #L = np.linalg.norm(X.T.dot(X))\n",
    "    #eta = 1. / L\n",
    "    eta = 1\n",
    "    \n",
    "    # initialisation\n",
    "    theta = np.zeros(n_features)\n",
    "    \n",
    "    # historique de la fonction de perte\n",
    "    cost_history = np.empty(shape=[T])\n",
    "    \n",
    "    for t in range(0,T):\n",
    "        # compute gradient\n",
    "        gt = grad(theta)\n",
    "        \n",
    "        # compute prox\n",
    "        theta = theta - eta * gt - eta * lam * np.sign(theta)\n",
    "        \n",
    "        cost_history[t] = f(theta, lam)\n",
    "               \n",
    "    return theta, cost_history"
   ]
  },
  {
   "cell_type": "code",
   "execution_count": 328,
   "metadata": {
    "collapsed": false
   },
   "outputs": [],
   "source": [
    "theta, cost_history = PGD(1000,0)"
   ]
  },
  {
   "cell_type": "code",
   "execution_count": 329,
   "metadata": {
    "collapsed": false
   },
   "outputs": [
    {
     "name": "stdout",
     "output_type": "stream",
     "text": [
      "[ 10.7152154   -0.01422075]\n",
      "[ 0.33004589 -0.00047998]\n"
     ]
    }
   ],
   "source": [
    "print(theta)\n",
    "print(w)"
   ]
  },
  {
   "cell_type": "code",
   "execution_count": 330,
   "metadata": {
    "collapsed": false
   },
   "outputs": [
    {
     "data": {
      "image/png": "[encoded data removed]",
      "text/plain": [
       "<matplotlib.figure.Figure at 0x9d2a470>"
      ]
     },
     "metadata": {},
     "output_type": "display_data"
    }
   ],
   "source": [
    "plt.plot(cost_history, lw=4)\n",
    "plt.grid()\n",
    "plt.yscale('log')\n",
    "plt.ylabel('Loss')\n",
    "plt.xlabel('Number of step')\n",
    "plt.show()"
   ]
  },
  {
   "cell_type": "markdown",
   "metadata": {},
   "source": [
    "On passe à l'accélération Nesterov"
   ]
  },
  {
   "cell_type": "code",
   "execution_count": 331,
   "metadata": {
    "collapsed": true
   },
   "outputs": [],
   "source": [
    "def FISTA(T, lam):\n",
    "    # pas de la descente\n",
    "    # Lipschitz constant\n",
    "    #L = np.linalg.norm(X.T.dot(X))\n",
    "    #eta = 1. / L\n",
    "    eta = 0.1\n",
    "    st_moins2 = 1.\n",
    "    st_moins1 = 1.\n",
    "    st = 1.\n",
    "    \n",
    "    # initialisation\n",
    "    theta_moins1 = np.zeros(n_features)\n",
    "    theta = np.zeros(n_features)\n",
    "    theta_nesterov = np.zeros(n_features)\n",
    "    \n",
    "    # historique de la fonction de perte\n",
    "    cost_history = np.empty(shape=[T])\n",
    "    \n",
    "    for t in range(0,T):\n",
    "        # compute gradient\n",
    "        gt = grad(theta_nesterov)\n",
    "        \n",
    "        # compute st\n",
    "        st_moins2 = st_moins1\n",
    "        st_moins1 = st\n",
    "        st = (1 + np.sqrt(1 + 4 * st**2)) / 2 \n",
    "        \n",
    "        # compute prox\n",
    "        theta_moins1 = theta\n",
    "        theta = theta_nesterov - eta * gt - eta * lam * np.sign(theta_nesterov)\n",
    "        \n",
    "        # compute nestorov acceleration\n",
    "        theta_nesterov = theta + (st_moins2 / st_moins1) * (theta - theta_moins1)\n",
    "        \n",
    "        cost_history[t] = f(theta, lam)\n",
    "               \n",
    "    return theta_nesterov, cost_history"
   ]
  },
  {
   "cell_type": "code",
   "execution_count": 332,
   "metadata": {
    "collapsed": false,
    "deletable": true,
    "editable": true
   },
   "outputs": [],
   "source": [
    "theta, cost_history = FISTA(1000,0.01)"
   ]
  },
  {
   "cell_type": "code",
   "execution_count": 333,
   "metadata": {
    "collapsed": false,
    "deletable": true,
    "editable": true
   },
   "outputs": [
    {
     "name": "stdout",
     "output_type": "stream",
     "text": [
      "[  6.19146187e+00  -1.26849063e-03]\n",
      "[ 0.33004589 -0.00047998]\n"
     ]
    }
   ],
   "source": [
    "print(theta)\n",
    "print(w)"
   ]
  },
  {
   "cell_type": "code",
   "execution_count": 334,
   "metadata": {
    "collapsed": false,
    "deletable": true,
    "editable": true
   },
   "outputs": [
    {
     "data": {
      "image/png": "[encoded data removed]",
      "text/plain": [
       "<matplotlib.figure.Figure at 0xaa4d550>"
      ]
     },
     "metadata": {},
     "output_type": "display_data"
    }
   ],
   "source": [
    "plt.plot(cost_history, lw=4)\n",
    "plt.grid()\n",
    "#plt.yscale('log')\n",
    "plt.ylabel('Loss')\n",
    "plt.xlabel('Number of step')\n",
    "plt.show()"
   ]
  },
  {
   "cell_type": "markdown",
   "metadata": {},
   "source": [
    "<a id='section2'></a>\n",
    "SDCA"
   ]
  },
  {
   "cell_type": "markdown",
   "metadata": {
    "deletable": true,
    "editable": true
   },
   "source": [
    "Nous allons d'abord implémenter la version la plus classique de l'algorithme, avant de mettre en oeuvre les variantes et améliorations proposées dans http://www.jmlr.org/papers/volume14/shalev-shwartz13a/shalev-shwartz13a.pdf"
   ]
  },
  {
   "cell_type": "markdown",
   "metadata": {
    "deletable": true,
    "editable": true
   },
   "source": [
    "On définit les fonctions de coût (primal et dual) qui permettront de monitorer l'avancée de l'algorithme. (Remarque : la fonction P est identique que la fonction f définie plus haut, mais on décide de la redéfinir ici pour coller aux notations de l'article)"
   ]
  },
  {
   "cell_type": "code",
   "execution_count": 2,
   "metadata": {
    "collapsed": false,
    "deletable": true,
    "editable": true
   },
   "outputs": [],
   "source": [
    "step_size = 1.0 / (3 * np.max((X * X).sum(1)))      #ici on travaille toujours avec un step_size constant\n",
    "\n",
    "\n",
    "def P(theta, lam):\n",
    "    cost = 1-np.multiply(b,X.dot(theta))\n",
    "    cost[cost <= 0] = 0\n",
    "    return np.mean(cost) + lam * np.linalg.norm(theta, ord=1)\n",
    "\n",
    "def D(alpha, lam):\n",
    "    cost = np.multiply(b,X.dot(theta))\n",
    "    cost[cost > 0] = np.nan\n",
    "    cost[cost < -1] = np.nan\n",
    "    return cost                    "
   ]
  },
  {
   "cell_type": "markdown",
   "metadata": {
    "deletable": true,
    "editable": true
   },
   "source": [
    "## SCDA classique"
   ]
  },
  {
   "cell_type": "code",
   "execution_count": 3,
   "metadata": {
    "collapsed": false,
    "deletable": true,
    "editable": true
   },
   "outputs": [],
   "source": [
    "def SDCA(T, lam):\n",
    "    alpha = np.zeros(n_samples)\n",
    "    w = (1/(lam*n_samples))*np.dot(X.T,alpha)\n",
    "    \n",
    "    grad_history = np.empty(shape=[T/100])\n",
    "    cost_history = np.empty(shape=[T/100])\n",
    "    \n",
    "    for t in range(0,T):\n",
    "        # .. pick random sample ..\n",
    "        idx = np.random.randint(0, n_samples)\n",
    "        \n",
    "        # on calcule les constantes A et B (utiles pour la résolution du delta alpha i)\n",
    "        A = (1/(lam*n_samples)) * np.linalg.norm(X[idx])**2\n",
    "        B = X[idx].T.dot(w)    \n",
    "        \n",
    "        y_i = b[idx]\n",
    "        delta_alpha_i_tilde = (y_i-B)/A        \n",
    "        delta_alpha_i = y_i * np.clip(y_i*(delta_alpha_i_tilde + alpha[idx]), a_min=0, a_max=1) - alpha[idx]\n",
    "        \n",
    "        alpha[idx] = alpha[idx] + delta_alpha_i\n",
    "    \n",
    "        w = (1/(lam*n_samples))*np.dot(X.T,alpha)\n",
    "        \n",
    "        if t % 100 == 0: \n",
    "            grad_history[t/100] = delta_alpha_i\n",
    "            cost_history[t/100] = P(w, lam)\n",
    "        \n",
    "    return w, grad_history, cost_history\n",
    "        "
   ]
  },
  {
   "cell_type": "code",
   "execution_count": 4,
   "metadata": {
    "collapsed": false,
    "deletable": true,
    "editable": true
   },
   "outputs": [],
   "source": [
    "theta, grad_history, cost_history = SDCA(1000,step_size)"
   ]
  },
  {
   "cell_type": "code",
   "execution_count": 5,
   "metadata": {
    "collapsed": false,
    "deletable": true,
    "editable": true
   },
   "outputs": [
    {
     "data": {
      "image/png": "[encoded data removed]",
      "text/plain": [
       "<matplotlib.figure.Figure at 0x777a6d8>"
      ]
     },
     "metadata": {},
     "output_type": "display_data"
    }
   ],
   "source": [
    "plt.plot(grad_history, lw=4)\n",
    "plt.grid()\n",
    "#plt.yscale('log')\n",
    "plt.ylabel('Function suboptimality')\n",
    "plt.xlabel('Number of epochs')\n",
    "plt.show()"
   ]
  },
  {
   "cell_type": "code",
   "execution_count": 6,
   "metadata": {
    "collapsed": false,
    "deletable": true,
    "editable": true
   },
   "outputs": [
    {
     "data": {
      "image/png": "[encoded data removed]",
      "text/plain": [
       "<matplotlib.figure.Figure at 0x78a3320>"
      ]
     },
     "metadata": {},
     "output_type": "display_data"
    }
   ],
   "source": [
    "plt.plot(cost_history, lw=4)\n",
    "plt.grid()\n",
    "#plt.yscale('log')\n",
    "plt.ylabel('Function suboptimality')\n",
    "plt.xlabel('Number of epochs')\n",
    "plt.show()"
   ]
  },
  {
   "cell_type": "markdown",
   "metadata": {
    "collapsed": true,
    "deletable": true,
    "editable": true
   },
   "source": [
    "## SCDA avec SGD initilisation"
   ]
  },
  {
   "cell_type": "code",
   "execution_count": 7,
   "metadata": {
    "collapsed": false,
    "deletable": true,
    "editable": true
   },
   "outputs": [
    {
     "ename": "SyntaxError",
     "evalue": "invalid syntax (<ipython-input-7-ed20d984b757>, line 1)",
     "output_type": "error",
     "traceback": [
      "\u001b[0;36m  File \u001b[0;32m\"<ipython-input-7-ed20d984b757>\"\u001b[0;36m, line \u001b[0;32m1\u001b[0m\n\u001b[0;31m    ...\u001b[0m\n\u001b[0m    ^\u001b[0m\n\u001b[0;31mSyntaxError\u001b[0m\u001b[0;31m:\u001b[0m invalid syntax\n"
     ]
    }
   ],
   "source": [
    "..."
   ]
  },
  {
   "cell_type": "markdown",
   "metadata": {},
   "source": [
    "<a id='section3'></a>\n",
    "SVRG"
   ]
  },
  {
   "cell_type": "code",
   "execution_count": 387,
   "metadata": {
    "collapsed": false
   },
   "outputs": [],
   "source": [
    "def SVRG(T, m, lam):\n",
    "    # pas de la descente\n",
    "    # Lipschitz constant\n",
    "    #L = np.linalg.norm(X.T.dot(X))\n",
    "    #eta = 1. / L\n",
    "    eta = 1\n",
    "    \n",
    "    # initialisation\n",
    "    theta_hat = np.zeros(n_features)\n",
    "    \n",
    "    # historique de la fonction de perte\n",
    "    cost_history = np.empty(shape=[T])\n",
    "    \n",
    "    for t in range(0,T):   \n",
    "        # vrai gradient\n",
    "        g_hat = grad(theta_hat)\n",
    "    \n",
    "        theta = np.zeros([m+1, n_features])\n",
    "        theta[0,:] = theta_hat\n",
    "        for k in range(0,m):\n",
    "            # random sample an indice\n",
    "            idx = np.random.randint(0, n_samples) \n",
    "\n",
    "            # compute variance reduced gradient\n",
    "            g = partial_grad(theta[k], idx) - partial_grad(theta_hat, idx) + g_hat\n",
    "\n",
    "            # compute prox\n",
    "            theta[k+1] = theta[k] - eta * g - eta * lam * np.sign(theta[k])\n",
    "        \n",
    "        # on retire la première ligne\n",
    "        theta = theta[1:]\n",
    "        \n",
    "        theta_hat = np.mean(theta, axis=0)\n",
    "        \n",
    "        cost_history[t] = f(theta_hat, lam)\n",
    "               \n",
    "    return theta_hat, cost_history"
   ]
  },
  {
   "cell_type": "code",
   "execution_count": 394,
   "metadata": {
    "collapsed": false,
    "deletable": true,
    "editable": true
   },
   "outputs": [],
   "source": [
    "theta, cost_history = SVRG(T=100, m=100, lam=0.01)"
   ]
  },
  {
   "cell_type": "code",
   "execution_count": 395,
   "metadata": {
    "collapsed": false,
    "deletable": true,
    "editable": true
   },
   "outputs": [
    {
     "name": "stdout",
     "output_type": "stream",
     "text": [
      "[-3.78327808 -4.96169434]\n",
      "[-1.53292105 -1.71197016]\n"
     ]
    }
   ],
   "source": [
    "print(theta)\n",
    "print(w)"
   ]
  },
  {
   "cell_type": "code",
   "execution_count": 396,
   "metadata": {
    "collapsed": false,
    "deletable": true,
    "editable": true
   },
   "outputs": [
    {
     "data": {
      "image/png": "[encoded data removed]",
      "text/plain": [
       "<matplotlib.figure.Figure at 0xaa1d160>"
      ]
     },
     "metadata": {},
     "output_type": "display_data"
    }
   ],
   "source": [
    "plt.plot(cost_history, lw=4)\n",
    "plt.grid()\n",
    "#plt.yscale('log')\n",
    "plt.ylabel('Loss')\n",
    "plt.xlabel('Number of step')\n",
    "plt.show()"
   ]
  },
  {
   "cell_type": "code",
   "execution_count": null,
   "metadata": {
    "collapsed": true
   },
   "outputs": [],
   "source": []
  },
  {
   "cell_type": "code",
   "execution_count": null,
   "metadata": {
    "collapsed": true
   },
   "outputs": [],
   "source": []
  }
 ],
 "metadata": {
  "kernelspec": {
   "display_name": "Python 2",
   "language": "python",
   "name": "python2"
  },
  "language_info": {
   "codemirror_mode": {
    "name": "ipython",
    "version": 2
   },
   "file_extension": ".py",
   "mimetype": "text/x-python",
   "name": "python",
   "nbconvert_exporter": "python",
   "pygments_lexer": "ipython2",
   "version": "2.7.13"
  }
 },
 "nbformat": 4,
 "nbformat_minor": 2
}
