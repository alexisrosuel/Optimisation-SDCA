{
 "cells": [
  {
   "cell_type": "code",
   "execution_count": 2,
   "metadata": {
    "collapsed": false,
    "deletable": true,
    "editable": true
   },
   "outputs": [],
   "source": [
    "%matplotlib inline\n",
    "import numpy as np\n",
    "import matplotlib.pyplot as plt\n",
    "import time # pour comparer les algorithmes en fonction de leur durée d'éxecution"
   ]
  },
  {
   "cell_type": "markdown",
   "metadata": {
    "deletable": true,
    "editable": true
   },
   "source": [
    "- Batch Proximal Gradient Descent (avec accéleration Nesterov, aka FISTA)\n",
    "- SDCA\n",
    "- SVRG\n",
    "- SAGA"
   ]
  },
  {
   "cell_type": "markdown",
   "metadata": {
    "deletable": true,
    "editable": true
   },
   "source": [
    "# SDCA sur SVM avec régularisation LASSO"
   ]
  },
  {
   "cell_type": "markdown",
   "metadata": {
    "deletable": true,
    "editable": true
   },
   "source": [
    "Nous allons en premier lieu nous concentrer sur l'algorithme SVM avec régularisation LASSO. \n",
    "\n",
    "Commençons par définir les notations afin de fixer les idées :\n",
    "- les données seront notées par la matrice $X$ de taille (n_samples, n_features)\n",
    "- le paramètre à estimer est $\\theta$ de taille n_features\n",
    "- les valeurs à prédire sont dans le vecteur $b$ de taille n_samples\n",
    "\n",
    "Afin de pouvoir fixer de manière optimale les pas de descente, nous allons utiliser une version smooth de la hinge loss : la square hinge loss (smoothness $\\gamma = \\| X \\|_2$), mais qui n'est pas strongly convex. On s'attend donc à avoir une convergence en $\\frac{\\gamma}{t} $.\n",
    "\n",
    "$$ l(b,X^T \\theta) = \\frac{1}{n\\_samples} \\sum_{i=1}^{n\\_samples} max(0, 1 - b_i X_i^T \\theta)^2 $$\n",
    "\n",
    "Le gradient s'écrit\n",
    "\n",
    "$$ \\nabla_\\theta l(b, X^T \\theta) = \\frac{1}{n\\_samples}  \\sum_{i=1}^{n\\_samples} \\left\\{\n",
    "    \\begin{array}{ll}\n",
    "        0 & \\mbox{si } b_i X_i^T \\theta > 1 \\\\\n",
    "        -2 b_i X_i^T (1 - b_i X_i^T \\theta) & \\mbox{sinon.}\n",
    "    \\end{array}\n",
    "\\right. $$\n",
    "\n",
    "Enfin, la perte considéré étant le LASSO, ie la régularisation l1, le fontion $\\psi$ considérée s'écrit ici :\n",
    "$$ \\psi (\\theta) = \\lambda |\\theta|_1 $$ \n",
    "\n",
    "Le prox se calcule donc de cette manière :\n",
    "\n",
    "$$ \\theta_{t+1} = \\theta_t - \\eta \\nabla_\\theta l(b, X^T \\theta_t) - \\eta \\lambda \\text{sgn}(\\theta_t) $$\n",
    "(en principe il faudrait utiliser sgn($\\theta$) mais nous ferons une approximation...)\n",
    "\n",
    "Enfin, au cours de ce notebook, nous ne lancerons pas les différents algorithmes sur un nombre d'itérations fixé à l'avance, mais sur un budget 'temps' fixé à l'avance (par exemple on donnera 5 secondes à tous les algorithmes)."
   ]
  },
  {
   "cell_type": "markdown",
   "metadata": {
    "deletable": true,
    "editable": true
   },
   "source": [
    "*[Partie 0 : Définition des données](#section0)\n",
    "\n",
    "*[Partie 1 : Batch Proximal Gradient Descent](#section1)\n",
    "\n",
    "*[Partie 2 : FISTA](#section2)\n",
    "\n",
    "*[Partie 3 : SVRG](#section3)\n",
    "\n",
    "*[Partie 4 : SAGA](#section4)\n",
    "\n",
    "*[Partie 5 : Primal Coordinate descent](#section5)\n",
    "\n",
    "*[Partie 6 : SDCA](#section6)\n",
    "\n",
    "*[Partie 7 : Comparaison](#section7)"
   ]
  },
  {
   "cell_type": "markdown",
   "metadata": {
    "deletable": true,
    "editable": true
   },
   "source": [
    "<a id='section0'></a>"
   ]
  },
  {
   "cell_type": "markdown",
   "metadata": {
    "deletable": true,
    "editable": true
   },
   "source": [
    "# Définition des données"
   ]
  },
  {
   "cell_type": "markdown",
   "metadata": {
    "deletable": true,
    "editable": true
   },
   "source": [
    "Commençons par définir les données de test qui seront plus tard remplacées par les vraies données."
   ]
  },
  {
   "cell_type": "code",
   "execution_count": 3,
   "metadata": {
    "collapsed": true,
    "deletable": true,
    "editable": true
   },
   "outputs": [],
   "source": [
    "np.random.seed(0)\n",
    "\n",
    "def binarize(x):\n",
    "    return np.sign(x)\n",
    "\n",
    "n_samples, n_features = 2000, 40\n",
    "X = np.random.randn(n_samples, n_features)\n",
    "w = np.random.randn(n_features)\n",
    "b = binarize(X.dot(w) + 0.1 * np.random.randn(n_samples))"
   ]
  },
  {
   "cell_type": "markdown",
   "metadata": {
    "deletable": true,
    "editable": true
   },
   "source": [
    "Nous utiliserons par la suite le dataset Titanic. L'idée est qu'à partir des caractéristiques d'un passager, on cherche à prédire si celui-ci survit ou pas. \n",
    "\n",
    "Afin de tester l'algorithme dans plusieurs conditions, on va s'autoriser à dupliquer les données en lignes ou en colonnes (on rajoute des passagers fictifs ou des variables supplémentaires). Ainsi, on ne change pas la 'difficulté intrinsèque' du problème (l'optimum ne bouge pas !) mais on va pouvoir observer comment se comportent les algorithmes lorsqu'on scale. Voici les 4 cas considérés :\n",
    "- n_samples petit, n_features petit (c'est le cas de base : 1045 individus, 6 dimensions)\n",
    "- n_samples grand, n_features petit (on fait n_samples * 100)\n",
    "- n_samples petit, n_features grand (on fait n_features * 100)\n",
    "- n_samples grand, n_features grand (on fait n_samples \\* 100, n_features * 100)"
   ]
  },
  {
   "cell_type": "code",
   "execution_count": 4,
   "metadata": {
    "collapsed": false,
    "deletable": true,
    "editable": true
   },
   "outputs": [],
   "source": [
    "import pandas as pd\n",
    "# on importe la bdd initiale\n",
    "data = pd.read_excel('titanic3.xls')\n",
    "\n",
    "data = data[['pclass','sex','age','sibsp','parch','fare','survived']]\n",
    "data = data.dropna()\n",
    "X = data[['pclass','sex','age','sibsp','parch','fare']]\n",
    "X = pd.get_dummies(X)\n",
    "X = X[['pclass','sex_female','age','sibsp','parch','fare']]\n",
    "b=data.survived\n",
    "\n",
    "X = X.values\n",
    "b = b.values"
   ]
  },
  {
   "cell_type": "code",
   "execution_count": 5,
   "metadata": {
    "collapsed": false,
    "deletable": true,
    "editable": true
   },
   "outputs": [],
   "source": [
    "# on scale les données\n",
    "def grand_petit(X,b):    \n",
    "    X = np.concatenate([X for i in range(100)], axis=0)\n",
    "    b = np.concatenate([b for i in range(100)], axis=0)\n",
    "    return X,b\n",
    "    \n",
    "def petit_grand(X,b):\n",
    "    X = np.concatenate([X for i in range(100)], axis=1)\n",
    "    return X,b\n",
    "    \n",
    "def grand_grand(X,b):\n",
    "    X,b = petit_grand(X,b)\n",
    "    X,b = grand_petit(X,b)\n",
    "    return X,b\n",
    " \n",
    "# Ici il faut choisir dans quel cas on se met, on laisse tout en commentaire si on veut rester dans le cas de base 'petit_petit'\n",
    "#X,b = grand_petit(X,b)\n",
    "X,b = petit_grand(X,b)\n",
    "#X,b = grand_grand(X,b)"
   ]
  },
  {
   "cell_type": "code",
   "execution_count": 6,
   "metadata": {
    "collapsed": false,
    "deletable": true,
    "editable": true,
    "scrolled": false
   },
   "outputs": [
    {
     "data": {
      "text/plain": [
       "(1045, 600)"
      ]
     },
     "execution_count": 6,
     "metadata": {},
     "output_type": "execute_result"
    }
   ],
   "source": [
    "X.shape"
   ]
  },
  {
   "cell_type": "code",
   "execution_count": 7,
   "metadata": {
    "collapsed": false,
    "deletable": true,
    "editable": true
   },
   "outputs": [],
   "source": [
    "n_samples, n_features = X.shape\n",
    "\n",
    "import sklearn.preprocessing\n",
    "X = sklearn.preprocessing.normalize(X)"
   ]
  },
  {
   "cell_type": "markdown",
   "metadata": {
    "deletable": true,
    "editable": true
   },
   "source": [
    "On définit aussi les fonctions de couts et les gradients (partiels ou non) pour la fonction hinge et la squared hinge"
   ]
  },
  {
   "cell_type": "code",
   "execution_count": 8,
   "metadata": {
    "collapsed": false,
    "deletable": true,
    "editable": true
   },
   "outputs": [],
   "source": [
    "# On commence avec la hinge normale\n",
    "def f_hinge(theta, lam):\n",
    "    cost = 1-np.multiply(b,X.dot(theta))\n",
    "    cost[cost <= 0] = 0\n",
    "    return np.mean(cost) + lam * np.linalg.norm(theta, ord=1)\n",
    "\n",
    "def partial_grad_hinge(theta, i):\n",
    "    if b[i] * X[i].dot(theta) < 1:\n",
    "        return -b[i] * X[i]\n",
    "    return 0 * X[i] \n",
    "\n",
    "def grad_hinge(theta):\n",
    "    gradient = -np.multiply(b, X.T)\n",
    "    gradient[:,np.multiply(b, X.dot(theta)) >= 1] = 0 * gradient[:,np.multiply(b, X.dot(theta)) >= 1]\n",
    "    return np.mean(gradient, axis=1)\n",
    "\n",
    "\n",
    "# On continue avec la squared hinge\n",
    "def f(theta, lam):\n",
    "    cost = (1-np.multiply(b,X.dot(theta))) ** 2\n",
    "    cost[cost <= 0] = 0\n",
    "    return np.mean(cost) + lam * np.linalg.norm(theta, ord=1)\n",
    "\n",
    "def partial_grad(theta, i):\n",
    "    if b[i] * X[i].dot(theta) < 1:\n",
    "        return -2 * b[i] * X[i]* (1 - b[i] * X[i].dot(theta))\n",
    "    return 0 * X[i] \n",
    "\n",
    "def partial_coordinate_grad(theta, i):\n",
    "    gradient = np.multiply( np.multiply(-2*b, X[:,i].T) , (1 - np.multiply(b, X[:,i]*theta[i])) )\n",
    "    gradient[np.multiply(b, X[:,i]*theta[i]) >= 1] = 0 * gradient[np.multiply(b, X[:,i]*theta[i]) >= 1]  \n",
    "    return np.mean(gradient)\n",
    "\n",
    "def grad(theta):\n",
    "    gradient = np.multiply( np.multiply(-2*b, X.T) , (1 - np.multiply(b, X.dot(theta))) )\n",
    "    gradient[:,np.multiply(b, X.dot(theta)) >= 1] = 0 * gradient[:,np.multiply(b, X.dot(theta)) >= 1]   \n",
    "    return np.mean(gradient, axis=1)"
   ]
  },
  {
   "cell_type": "markdown",
   "metadata": {
    "deletable": true,
    "editable": true
   },
   "source": [
    "et les différentes constantes :\n",
    "- pénalisation : lambda = $\\frac{1}{\\text(n\\_features)}$\n",
    "- pas de descente : eta = $\\frac{1}{\\|X\\|_2}$  ($\\frac{1}{\\gamma}$, avec $\\gamma=\\|X\\|_2$)\n",
    "- nombre d'itérations : T = 300"
   ]
  },
  {
   "cell_type": "code",
   "execution_count": 9,
   "metadata": {
    "collapsed": false,
    "deletable": true,
    "editable": true
   },
   "outputs": [],
   "source": [
    "lam = 1./n_features\n",
    "eta = 1./(np.linalg.norm(X))\n",
    "T = 300"
   ]
  },
  {
   "cell_type": "markdown",
   "metadata": {
    "deletable": true,
    "editable": true
   },
   "source": [
    "<a id='section1'></a>"
   ]
  },
  {
   "cell_type": "markdown",
   "metadata": {
    "deletable": true,
    "editable": true
   },
   "source": [
    "# Batch Proximal Gradient Descent"
   ]
  },
  {
   "cell_type": "markdown",
   "metadata": {
    "deletable": true,
    "editable": true
   },
   "source": [
    "Commençons avec l'algorithme le plus simple : la descente de gradient proximale. "
   ]
  },
  {
   "cell_type": "code",
   "execution_count": 10,
   "metadata": {
    "collapsed": false,
    "deletable": true,
    "editable": true
   },
   "outputs": [],
   "source": [
    "def PGD(T, lam, eta):\n",
    "    # on déclenche le timer\n",
    "    t0 = time.time()\n",
    "    \n",
    "    # initialisation\n",
    "    theta = np.zeros(n_features)\n",
    "    \n",
    "    # historique des fonctions de perte\n",
    "    cost_history = np.empty(shape=[T])\n",
    "    time_history = np.empty(shape=[T,2])\n",
    "    \n",
    "    for t in range(0,T):\n",
    "        cost_history[t] = f(theta, lam)\n",
    "        time_history[t] = (time.time()-t0, f(theta, lam))\n",
    "        \n",
    "        # compute gradient\n",
    "        gt = grad(theta)\n",
    "        \n",
    "        # compute prox\n",
    "        theta = theta - eta * gt - eta * lam * np.sign(theta)\n",
    "               \n",
    "    return theta, cost_history, time_history"
   ]
  },
  {
   "cell_type": "code",
   "execution_count": 11,
   "metadata": {
    "collapsed": false,
    "deletable": true,
    "editable": true
   },
   "outputs": [],
   "source": [
    "theta, cost_history_PGD, time_history_PGD = PGD(T=T,lam=lam,eta=eta)"
   ]
  },
  {
   "cell_type": "code",
   "execution_count": 12,
   "metadata": {
    "collapsed": false,
    "deletable": true,
    "editable": true
   },
   "outputs": [
    {
     "data": {
      "image/png": "[encoded data removed]",
      "text/plain": [
       "<matplotlib.figure.Figure at 0x266a20ecdd8>"
      ]
     },
     "metadata": {},
     "output_type": "display_data"
    }
   ],
   "source": [
    "plt.plot(cost_history_PGD, lw=4)\n",
    "plt.grid()\n",
    "#plt.yscale('log')\n",
    "plt.ylabel('Loss')\n",
    "plt.xlabel('Number of step')\n",
    "plt.show()"
   ]
  },
  {
   "cell_type": "markdown",
   "metadata": {
    "deletable": true,
    "editable": true
   },
   "source": [
    "<a id='section2'></a>"
   ]
  },
  {
   "cell_type": "markdown",
   "metadata": {
    "deletable": true,
    "editable": true
   },
   "source": [
    "# FISTA"
   ]
  },
  {
   "cell_type": "markdown",
   "metadata": {
    "deletable": true,
    "editable": true
   },
   "source": [
    "Une accélération est proposée dans le cours, implémentons-la aussi : c'est l'accélération Nesterov."
   ]
  },
  {
   "cell_type": "code",
   "execution_count": 16,
   "metadata": {
    "collapsed": true,
    "deletable": true,
    "editable": true
   },
   "outputs": [],
   "source": [
    "def FISTA(T, lam, eta):\n",
    "    # on déclenche le timer\n",
    "    t0 = time.time()\n",
    "    \n",
    "    # initialisation des s\n",
    "    st_moins2 = 1.\n",
    "    st_moins1 = 1.\n",
    "    st = 1.\n",
    "    \n",
    "    # initialisation\n",
    "    xt = np.zeros(n_features)\n",
    "    xt_moins1 = np.zeros(n_features)\n",
    "    yt = np.zeros(n_features)\n",
    "    \n",
    "    # historique des fonctions de perte\n",
    "    cost_history = np.empty(shape=[T])\n",
    "    time_history = np.empty(shape=[T,2])\n",
    "    \n",
    "    for t in range(0,T):\n",
    "        cost_history[t] = f(xt, lam)\n",
    "        time_history[t] = (time.time()-t0, f(xt, lam))\n",
    "        \n",
    "        # compute gradient\n",
    "        gt = grad(xt)\n",
    "        \n",
    "        # compute prox\n",
    "        xt_moins1 = xt\n",
    "        xt = yt - eta * gt - eta * lam * np.sign(yt)   \n",
    "        \n",
    "        # compute st\n",
    "        st_moins2 = st_moins1\n",
    "        st_moins1 = st\n",
    "        st = (1 + np.sqrt(1 + 4 * st_moins1**2)) / 2 \n",
    "        \n",
    "        # compute nestorov acceleration\n",
    "        yt = xt + (st_moins2 / st) * (xt - xt_moins1)  \n",
    "               \n",
    "    return xt, cost_history, time_history"
   ]
  },
  {
   "cell_type": "code",
   "execution_count": 17,
   "metadata": {
    "collapsed": false,
    "deletable": true,
    "editable": true
   },
   "outputs": [],
   "source": [
    "theta, cost_history_FISTA, time_history_FISTA = FISTA(T=T,lam=lam,eta=eta)"
   ]
  },
  {
   "cell_type": "code",
   "execution_count": 18,
   "metadata": {
    "collapsed": false,
    "deletable": true,
    "editable": true
   },
   "outputs": [
    {
     "data": {
      "image/png": "[encoded data removed]",
      "text/plain": [
       "<matplotlib.figure.Figure at 0x266a1878470>"
      ]
     },
     "metadata": {},
     "output_type": "display_data"
    }
   ],
   "source": [
    "plt.plot(cost_history_FISTA, lw=4)\n",
    "plt.grid()\n",
    "#plt.yscale('log')\n",
    "plt.ylabel('Loss')\n",
    "plt.xlabel('Number of step')\n",
    "plt.show()"
   ]
  },
  {
   "cell_type": "markdown",
   "metadata": {
    "deletable": true,
    "editable": true
   },
   "source": [
    "<a id='section3'></a>"
   ]
  },
  {
   "cell_type": "markdown",
   "metadata": {
    "deletable": true,
    "editable": true
   },
   "source": [
    "# SVRG "
   ]
  },
  {
   "cell_type": "markdown",
   "metadata": {
    "deletable": true,
    "editable": true
   },
   "source": [
    "L'algorithme SVRG est aussi proposé dans le cours comme une accélération de la descente de gradient. Implémentons-le :"
   ]
  },
  {
   "cell_type": "code",
   "execution_count": 19,
   "metadata": {
    "collapsed": false,
    "deletable": true,
    "editable": true
   },
   "outputs": [],
   "source": [
    "def SVRG(T, m, lam, eta):\n",
    "    # on déclenche le timer\n",
    "    t0 = time.time()\n",
    "    \n",
    "    # initialisation\n",
    "    theta_hat = np.zeros(n_features)\n",
    "    \n",
    "    # historique des fonctions de perte\n",
    "    cost_history = np.empty(shape=[T])\n",
    "    time_history = np.empty(shape=[T,2])\n",
    "    \n",
    "    for t in range(0,T): \n",
    "        cost_history[t] = f(theta_hat, lam)\n",
    "        time_history[t] = (time.time()-t0, f(theta_hat, lam))\n",
    "        \n",
    "        # vrai gradient\n",
    "        g_hat = grad(theta_hat)\n",
    "    \n",
    "        theta = np.zeros([m+1, n_features])\n",
    "        theta[0,:] = theta_hat\n",
    "        for k in range(0,m):\n",
    "            # random sample an indice\n",
    "            idx = np.random.randint(0, n_samples) \n",
    "\n",
    "            # compute variance reduced gradient\n",
    "            g = partial_grad(theta[k], idx) - partial_grad(theta_hat, idx) + g_hat\n",
    "\n",
    "            # compute prox\n",
    "            theta[k+1] = theta[k] - eta * g - eta * lam * np.sign(theta[k])\n",
    "        \n",
    "        # on retire la première ligne\n",
    "        theta = theta[1:]\n",
    "        \n",
    "        theta_hat = np.mean(theta, axis=0)\n",
    "        \n",
    "    return theta_hat, cost_history, time_history"
   ]
  },
  {
   "cell_type": "code",
   "execution_count": 20,
   "metadata": {
    "collapsed": false,
    "deletable": true,
    "editable": true
   },
   "outputs": [],
   "source": [
    "theta, cost_history_SVRG, time_history_SVRG = SVRG(T=T, m=20, lam=lam, eta=eta)"
   ]
  },
  {
   "cell_type": "code",
   "execution_count": 21,
   "metadata": {
    "collapsed": false,
    "deletable": true,
    "editable": true
   },
   "outputs": [
    {
     "data": {
      "image/png": "[encoded data removed]",
      "text/plain": [
       "<matplotlib.figure.Figure at 0x266a1960e48>"
      ]
     },
     "metadata": {},
     "output_type": "display_data"
    }
   ],
   "source": [
    "plt.plot(cost_history_SVRG, lw=4)\n",
    "plt.grid()\n",
    "#plt.yscale('log')\n",
    "plt.ylabel('Loss')\n",
    "plt.xlabel('Number of step')\n",
    "plt.show()"
   ]
  },
  {
   "cell_type": "markdown",
   "metadata": {
    "deletable": true,
    "editable": true
   },
   "source": [
    "<a id='section4'></a>"
   ]
  },
  {
   "cell_type": "markdown",
   "metadata": {
    "collapsed": true,
    "deletable": true,
    "editable": true
   },
   "source": [
    "# SAGA"
   ]
  },
  {
   "cell_type": "markdown",
   "metadata": {
    "deletable": true,
    "editable": true
   },
   "source": [
    "Pour terminer, SAGA est aussi proposé comme une accélération, le voici :"
   ]
  },
  {
   "cell_type": "code",
   "execution_count": 22,
   "metadata": {
    "collapsed": false,
    "deletable": true,
    "editable": true
   },
   "outputs": [],
   "source": [
    "def SAGA(T, lam, eta):\n",
    "    # on déclenche le timer\n",
    "    t0 = time.time()\n",
    "    \n",
    "    # initialisation\n",
    "    theta = np.zeros(n_features)\n",
    "    \n",
    "    gi_hat = np.zeros([n_samples, n_features])\n",
    "    g_bar = np.zeros(n_features)\n",
    "    \n",
    "    # historique des fonctions de perte\n",
    "    cost_history = np.empty(shape=[T])\n",
    "    time_history = np.empty(shape=[T,2])\n",
    "    \n",
    "    for t in range(0,T): \n",
    "        cost_history[t] = f(theta, lam)\n",
    "        time_history[t] = (time.time()-t0, f(theta, lam))\n",
    "        \n",
    "        # random sample an indice\n",
    "        idx = np.random.randint(0, n_samples) \n",
    "        \n",
    "        # compute partial gradient\n",
    "        gi = partial_grad(theta, idx)\n",
    "        \n",
    "        # estimate gradient\n",
    "        g_hat = gi - gi_hat[idx] + g_bar\n",
    "        \n",
    "        # update average gradient\n",
    "        g_bar = g_bar + (1./n_samples) * (gi - gi_hat[idx])\n",
    "        \n",
    "        # update stored gradient\n",
    "        gi_hat[idx] = gi\n",
    "        \n",
    "        # compute prox\n",
    "        theta = theta - eta * g_hat - eta * lam * np.sign(theta)\n",
    "                          \n",
    "    return theta, cost_history, time_history"
   ]
  },
  {
   "cell_type": "code",
   "execution_count": 23,
   "metadata": {
    "collapsed": false,
    "deletable": true,
    "editable": true
   },
   "outputs": [],
   "source": [
    "theta, cost_history_SAGA, time_history_SAGA = SAGA(T=T, lam=lam, eta=eta)"
   ]
  },
  {
   "cell_type": "code",
   "execution_count": 24,
   "metadata": {
    "collapsed": false,
    "deletable": true,
    "editable": true
   },
   "outputs": [
    {
     "data": {
      "image/png": "[encoded data removed]",
      "text/plain": [
       "<matplotlib.figure.Figure at 0x266a1a1e2b0>"
      ]
     },
     "metadata": {},
     "output_type": "display_data"
    }
   ],
   "source": [
    "plt.plot(cost_history_SAGA, lw=4)\n",
    "plt.grid()\n",
    "#plt.yscale('log')\n",
    "plt.ylabel('Loss')\n",
    "plt.xlabel('Number of step')\n",
    "plt.show()"
   ]
  },
  {
   "cell_type": "markdown",
   "metadata": {
    "deletable": true,
    "editable": true
   },
   "source": [
    "<a id='section5'></a>"
   ]
  },
  {
   "cell_type": "markdown",
   "metadata": {
    "deletable": true,
    "editable": true
   },
   "source": [
    "# Primal Coordinate Descent"
   ]
  },
  {
   "cell_type": "markdown",
   "metadata": {
    "deletable": true,
    "editable": true
   },
   "source": [
    "Nous allons commencer avec l'algorithme de coordinate descent dans le cadre primal avant de passer au problème dual (ie. l'algo SDCA)"
   ]
  },
  {
   "cell_type": "code",
   "execution_count": 25,
   "metadata": {
    "collapsed": true,
    "deletable": true,
    "editable": true
   },
   "outputs": [],
   "source": [
    "def CD(T, lam, eta):\n",
    "    # on déclenche le timer\n",
    "    t0 = time.time()\n",
    "    \n",
    "    # initialisation\n",
    "    theta = np.zeros(n_features)\n",
    "    \n",
    "    # historique des fonctions de perte\n",
    "    cost_history = np.empty(shape=[T])\n",
    "    time_history = np.empty(shape=[T,2])\n",
    "    \n",
    "    for t in range(0,T):\n",
    "        cost_history[t] = f(theta, lam)\n",
    "        time_history[t] = (time.time()-t0, f(theta, lam))\n",
    "        \n",
    "        # .. pick random coordinate ..\n",
    "        idx = np.random.randint(0, n_features)\n",
    "        \n",
    "        # compute partial gradient\n",
    "        gj = partial_coordinate_grad(theta, idx)\n",
    "        \n",
    "        # compute prox\n",
    "        theta[idx] = theta[idx] - eta * gj - eta * lam * np.sign(theta[idx])\n",
    "               \n",
    "    return theta, cost_history, time_history"
   ]
  },
  {
   "cell_type": "code",
   "execution_count": 26,
   "metadata": {
    "collapsed": false,
    "deletable": true,
    "editable": true
   },
   "outputs": [],
   "source": [
    "theta, cost_history_CD, time_history_CD = CD(T=T,lam=lam,eta=eta)"
   ]
  },
  {
   "cell_type": "code",
   "execution_count": 27,
   "metadata": {
    "collapsed": false,
    "deletable": true,
    "editable": true
   },
   "outputs": [
    {
     "data": {
      "image/png": "[encoded data removed]",
      "text/plain": [
       "<matplotlib.figure.Figure at 0x266a1a9ca58>"
      ]
     },
     "metadata": {},
     "output_type": "display_data"
    }
   ],
   "source": [
    "plt.plot(cost_history_CD, lw=4)\n",
    "plt.grid()\n",
    "plt.ylabel('Loss')\n",
    "plt.xlabel('Number of step')\n",
    "plt.show()"
   ]
  },
  {
   "cell_type": "markdown",
   "metadata": {
    "deletable": true,
    "editable": true
   },
   "source": [
    "<a id='section6'></a>"
   ]
  },
  {
   "cell_type": "markdown",
   "metadata": {
    "deletable": true,
    "editable": true
   },
   "source": [
    "# SDCA"
   ]
  },
  {
   "cell_type": "markdown",
   "metadata": {
    "deletable": true,
    "editable": true
   },
   "source": [
    "Nous allons maintenant implémenter la version la plus classique de l'algorithme (http://www.jmlr.org/papers/volume14/shalev-shwartz13a/shalev-shwartz13a.pdf)."
   ]
  },
  {
   "cell_type": "markdown",
   "metadata": {
    "deletable": true,
    "editable": true
   },
   "source": [
    "Nous définissons les fonctions de coût (primal et dual) qui permettront de monitorer l'avancée de l'algorithme. \n",
    "Remarque : la fonction P est identique à la fonction f_hinge définie plus haut, mais nous avons décidé de la redéfinir ici pour faire correspondre les notations aux notations de l'article."
   ]
  },
  {
   "cell_type": "code",
   "execution_count": 28,
   "metadata": {
    "collapsed": false,
    "deletable": true,
    "editable": true
   },
   "outputs": [],
   "source": [
    "def P(theta, lam):\n",
    "    cost = 1-np.multiply(b,X.dot(theta))\n",
    "    cost[cost <= 0] = 0\n",
    "    return np.mean(cost) + lam * np.linalg.norm(theta, ord=1)\n",
    "\n",
    "def D(alpha, lam):\n",
    "    cost = np.multiply(b,X.dot(theta))\n",
    "    cost[cost > 0] = np.nan\n",
    "    cost[cost < -1] = np.nan\n",
    "    return cost                    "
   ]
  },
  {
   "cell_type": "code",
   "execution_count": 29,
   "metadata": {
    "collapsed": false,
    "deletable": true,
    "editable": true
   },
   "outputs": [],
   "source": [
    "def SDCA(T, lam, eta):\n",
    "    # on déclenche le timer\n",
    "    t0 = time.time()\n",
    "    \n",
    "    # initialisation\n",
    "    alpha = np.zeros(n_samples)\n",
    "    w = (1/(lam*n_samples))*np.dot(X.T,alpha)\n",
    "    \n",
    "    # historique des fonctions de perte\n",
    "    cost_history = np.empty(shape=[T])\n",
    "    time_history = np.empty(shape=[T,2])\n",
    "    \n",
    "    for t in range(0,T):\n",
    "        cost_history[t] = P(w, lam)\n",
    "        time_history[t] = (time.time()-t0, P(w, lam))\n",
    "        \n",
    "        # .. pick random sample ..\n",
    "        idx = np.random.randint(0, n_samples)\n",
    "        \n",
    "        # on calcule les constantes A et B (utiles pour la résolution du delta alpha i)\n",
    "        A = (1/(lam*n_samples)) * np.linalg.norm(X[idx])**2\n",
    "        B = X[idx].T.dot(w)    \n",
    "        \n",
    "        y_i = b[idx]\n",
    "        delta_alpha_i_tilde = (y_i-B)/A        \n",
    "        delta_alpha_i = y_i * np.clip(y_i*(delta_alpha_i_tilde + alpha[idx]), a_min=0, a_max=1) - alpha[idx]\n",
    "        \n",
    "        alpha[idx] = alpha[idx] + delta_alpha_i\n",
    "    \n",
    "        w = (1/(lam*n_samples))*np.dot(X.T,alpha)\n",
    "        \n",
    "    return w, cost_history, time_history"
   ]
  },
  {
   "cell_type": "code",
   "execution_count": 30,
   "metadata": {
    "collapsed": false,
    "deletable": true,
    "editable": true
   },
   "outputs": [],
   "source": [
    "theta, cost_history_SDCA, time_history_SDCA = SDCA(T=T,lam=lam,eta=eta)"
   ]
  },
  {
   "cell_type": "code",
   "execution_count": 31,
   "metadata": {
    "collapsed": false,
    "deletable": true,
    "editable": true,
    "scrolled": true
   },
   "outputs": [
    {
     "data": {
      "image/png": "[encoded data removed]",
      "text/plain": [
       "<matplotlib.figure.Figure at 0x266a1ae82b0>"
      ]
     },
     "metadata": {},
     "output_type": "display_data"
    }
   ],
   "source": [
    "plt.plot(cost_history_SDCA, lw=4)\n",
    "plt.grid()\n",
    "plt.ylabel('Loss')\n",
    "plt.xlabel('Number of step')\n",
    "plt.show()"
   ]
  },
  {
   "cell_type": "markdown",
   "metadata": {
    "deletable": true,
    "editable": true
   },
   "source": [
    "<a id='section7'></a>"
   ]
  },
  {
   "cell_type": "markdown",
   "metadata": {
    "collapsed": true,
    "deletable": true,
    "editable": true
   },
   "source": [
    "# Comparaison des algorithmes"
   ]
  },
  {
   "cell_type": "markdown",
   "metadata": {
    "deletable": true,
    "editable": true
   },
   "source": [
    "Comparons tous ces algorithmes sous deux critères : \n",
    "- le nombre d'itérations nécessaire\n",
    "- le temps nécessaire\n",
    "\n",
    "Il est important de comparer nos algorithmes sous ces deux angles car le temps d'exécution d'un algorithme est fonction des performances d'une machine donnée. En effet, les résultats sont biaisés par les différentes optimisations de la machine et ces optimisations n'ont pas de lien avec l'algorithme en lui-même.\n",
    "\n",
    "A l'inverse, le nombre d'itérations est une mesure objective de la performance d'un algorithme, qui ne variera pas d'une machine à une autre, ni d'une implémentation à une autre. Son inconvénient est que certaines itérations d'algorithmes sont très longue (batch gradient descent) par rapport à d'autres (coordinate descent). Il est donc aussi difficile de comparer objectivement chaque algorithme.\n",
    "\n",
    "Les graphiques produit ci-dessous permettent néanmoins de se faire une idée (grossière) de la réalité :"
   ]
  },
  {
   "cell_type": "code",
   "execution_count": 32,
   "metadata": {
    "collapsed": false,
    "deletable": true,
    "editable": true
   },
   "outputs": [
    {
     "data": {
      "image/png": "[encoded data removed]",
      "text/plain": [
       "<matplotlib.figure.Figure at 0x266a1acc630>"
      ]
     },
     "metadata": {},
     "output_type": "display_data"
    }
   ],
   "source": [
    "plt.plot(cost_history_PGD, lw=4, label='Prox grad descent')\n",
    "plt.plot(cost_history_FISTA, lw=4, label='FISTA')\n",
    "plt.plot(cost_history_SVRG, lw=4, label='SVRG')\n",
    "plt.plot(cost_history_SAGA, lw=4, label='SAGA')\n",
    "plt.plot(cost_history_CD, lw=4, label='CD')\n",
    "plt.plot(cost_history_SDCA, lw=4, label='SDCA')\n",
    "\n",
    "plt.grid()\n",
    "plt.ylabel('Loss')\n",
    "plt.xlabel('Number of step')\n",
    "plt.legend(bbox_to_anchor=(1.05, 1), loc=2, borderaxespad=0.)\n",
    "plt.suptitle('Algorithms by number of step')\n",
    "plt.show()"
   ]
  },
  {
   "cell_type": "code",
   "execution_count": 37,
   "metadata": {
    "collapsed": false,
    "deletable": true,
    "editable": true
   },
   "outputs": [
    {
     "data": {
      "image/png": "[encoded data removed]",
      "text/plain": [
       "<matplotlib.figure.Figure at 0x266a18efe10>"
      ]
     },
     "metadata": {},
     "output_type": "display_data"
    }
   ],
   "source": [
    "plt.plot(time_history_PGD[:,0], time_history_PGD[:,1], lw=4, label='Prox grad descent')\n",
    "plt.plot(time_history_FISTA[:,0], time_history_FISTA[:,1], lw=4, label='FISTA')\n",
    "plt.plot(time_history_SVRG[:,0], time_history_SVRG[:,1], lw=4, label='SVRG')\n",
    "plt.plot(time_history_SAGA[:,0], time_history_SAGA[:,1], lw=4, label='SAGA')\n",
    "plt.plot(time_history_CD[:,0], time_history_CD[:,1], lw=4, label='CD')\n",
    "plt.plot(time_history_SDCA[:,0], time_history_SDCA[:,1], lw=4, label='SDCA')\n",
    "\n",
    "plt.grid()\n",
    "plt.ylabel('Loss')\n",
    "plt.xlabel('Seconds')\n",
    "plt.legend(bbox_to_anchor=(1.05, 1), loc=2, borderaxespad=0.)\n",
    "plt.suptitle('Algorithms by time elapsed')\n",
    "plt.show()"
   ]
  },
  {
   "cell_type": "markdown",
   "metadata": {
    "deletable": true,
    "editable": true
   },
   "source": [
    "Enfin, voici un récapitulatif des performances des algorithmes dans les quatres conditions considérées (ce sont les images des graphiques précédents enregistrés à l'avance).\n",
    "\n",
    "Commençons avec la comparaison en fonction du nombre d'itérations."
   ]
  },
  {
   "cell_type": "markdown",
   "metadata": {
    "deletable": true,
    "editable": true
   },
   "source": [
    "<table width=\"900\" border=\"1\" cellpadding=\"5\">\n",
    "\n",
    "<tr>\n",
    "\n",
    "<td align=\"center\" valign=\"center\">\n",
    "<img src=\"resultats/step_petit_petit.png\" alt=\"peu de samples et features\" />\n",
    "<br />\n",
    "peu de samples et features\n",
    "</td>\n",
    "\n",
    "<td align=\"center\" valign=\"center\">\n",
    "<img src=\"resultats/step_grand_petit.png\" alt=\"beaucoup de samples, peu de features\" />\n",
    "<br />\n",
    "beaucoup de samples, peu de features\n",
    "</td>\n",
    "\n",
    "<td align=\"center\" valign=\"center\">\n",
    "<img src=\"resultats/step_petit_grand.png\" alt=\"peu de samples, beaucoup de features\" />\n",
    "<br />\n",
    "peu de samples, beaucoup de features\n",
    "</td>\n",
    "\n",
    "<td align=\"center\" valign=\"center\">\n",
    "<img src=\"resultats/step_grand_grand.png\" alt=\"beaucoup de samples, beaucoup de features\" />\n",
    "<br />\n",
    "beaucoup de samples, beaucoup de features\n",
    "</td>\n",
    "\n",
    "</tr>\n",
    "\n",
    "</table>"
   ]
  },
  {
   "cell_type": "markdown",
   "metadata": {
    "deletable": true,
    "editable": true
   },
   "source": [
    "Puis la même comparaison mais cette fois en fonction du temps écoulé (en secondes)"
   ]
  },
  {
   "cell_type": "markdown",
   "metadata": {
    "deletable": true,
    "editable": true
   },
   "source": [
    "<table width=\"900\" border=\"1\" cellpadding=\"5\">\n",
    "\n",
    "<tr>\n",
    "\n",
    "<td align=\"center\" valign=\"center\">\n",
    "<img src=\"resultats/time_petit_petit.png\" alt=\"peu de samples et features\" />\n",
    "<br />\n",
    "peu de samples et features\n",
    "</td>\n",
    "\n",
    "<td align=\"center\" valign=\"center\">\n",
    "<img src=\"resultats/time_grand_petit.png\" alt=\"beaucoup de samples, peu de features\" />\n",
    "<br />\n",
    "beaucoup de samples, peu de features\n",
    "</td>\n",
    "\n",
    "<td align=\"center\" valign=\"center\">\n",
    "<img src=\"resultats/time_petit_grand.png\" alt=\"peu de samples, beaucoup de features\" />\n",
    "<br />\n",
    "peu de samples, beaucoup de features\n",
    "</td>\n",
    "\n",
    "<td align=\"center\" valign=\"center\">\n",
    "<img src=\"resultats/time_grand_grand.png\" alt=\"beaucoup de samples, beaucoup de features\" />\n",
    "<br />\n",
    "beaucoup de samples, beaucoup de features\n",
    "</td>\n",
    "\n",
    "</tr>\n",
    "\n",
    "</table>"
   ]
  },
  {
   "cell_type": "markdown",
   "metadata": {
    "deletable": true,
    "editable": true
   },
   "source": [
    "Quelques remarques :\n",
    "- SDCA semble être très performant lorsque le nombre de paramètres est très grand comparativement au nombre d'exemples. C'est cohérent avec l'algorithme : il optimise non pas sur l'espace des paramètres mais sur l'espace des individus.\n",
    "- A l'inverse c'est le pire dans le cas contraire.\n",
    "\n",
    "Concentrons-nous sur la comparaison par nombre d'itérations. C'est globalement un algorithme qui nécéssite plus d'itérations que les autres (mis à part le 3ème cas). En effet, l'algorithme favorise un nombre important d'itérations, chacunes rapides à calculer, à l'inverse de SVRG ou de FISTA qui préférent affecter plus de ressources à chaque pas afin d'espérer en faire moins in fine.\n",
    "\n",
    "A propos du temps de calcul, SDCA est globalement mauvais comparativement aux autres lorsque le problème à résoudre est simple, et semble être de plus en intéressant lorsque le problème se complexifie. On ne fera pas d'autres commentaires sur ces mesures car elles sont trop dépendantes des optimisations d'implémentations possibles.\n",
    "\n",
    "Enfin, et pour conclure, comparons SDCA à sa version conjuguée, le Coordinate Descent. Comme on pouvait s'y attendre, CD est meilleur dans le cas où la dimension du paramètre est petite, et inversement. "
   ]
  }
 ],
 "metadata": {
  "kernelspec": {
   "display_name": "Python 3",
   "language": "python",
   "name": "python3"
  },
  "language_info": {
   "codemirror_mode": {
    "name": "ipython",
    "version": 3
   },
   "file_extension": ".py",
   "mimetype": "text/x-python",
   "name": "python",
   "nbconvert_exporter": "python",
   "pygments_lexer": "ipython3",
   "version": "3.5.3"
  }
 },
 "nbformat": 4,
 "nbformat_minor": 2
}
