{
 "cells": [
  {
   "cell_type": "code",
   "execution_count": 1,
   "metadata": {
    "collapsed": false,
    "deletable": true,
    "editable": true
   },
   "outputs": [],
   "source": [
    "%matplotlib inline\n",
    "import numpy as np\n",
    "import matplotlib.pyplot as plt"
   ]
  },
  {
   "cell_type": "markdown",
   "metadata": {
    "deletable": true,
    "editable": true
   },
   "source": [
    "# Projet optimisation : algorithme SDCA"
   ]
  },
  {
   "cell_type": "markdown",
   "metadata": {
    "deletable": true,
    "editable": true
   },
   "source": [
    "Plan que je propose : \n",
    "\n",
    "On va se concentrer sur l'algorithme SVM avec régularisation LASSO. Afin de pouvoir fixer de manière optimale les pas de descentes, nous allons utiliser une version smooth de la hinge loss (Rennie and Srebro's ou Huber loss, je sais pas trop encore...) \n",
    "\n",
    "(insérer equation de la fonction de perte ici)\n",
    "\n",
    "(détailler le calcul du gradient)\n",
    "\n",
    "(détailler le calcul du prox)\n",
    "\n",
    "\n",
    "Etant donné que nous sommes exceptionnellement un groupe constitué de trois personnes, nous vous proposons le sujet 1 enrichi avec le sujet 3. Concrètement, nous allons implémenter 4 méthodes d'optimisations, puis les comparer sur la base de données ... (à choisir) :\n",
    "- Batch Proximal Gradient Descent (avec accéleration Nesterov, aka FISTA)\n",
    "- SDCA (avec eventuellement quelques optimisations présentées dans l'article)\n",
    "- SVRG\n",
    "- SAGA"
   ]
  },
  {
   "cell_type": "markdown",
   "metadata": {
    "deletable": true,
    "editable": true
   },
   "source": [
    "*[Partie 1 : Batch Proximal Gradient Descent](#section1)\n",
    "\n",
    "*[Partie 2 : SDCA](#section2)\n",
    "\n",
    "*[Partie 3 : SVRG](#section3)\n",
    "\n",
    "*[Partie 4 : SAGA](#section4)\n",
    "\n",
    "*[Partie 5 : Comparaison](#section1)"
   ]
  },
  {
   "cell_type": "markdown",
   "metadata": {
    "deletable": true,
    "editable": true
   },
   "source": [
    "# Définition des données"
   ]
  },
  {
   "cell_type": "markdown",
   "metadata": {
    "deletable": true,
    "editable": true
   },
   "source": [
    "On commence par définir les données de test (il faudra plus tard mettre les vraies données)"
   ]
  },
  {
   "cell_type": "code",
   "execution_count": 2,
   "metadata": {
    "collapsed": true,
    "deletable": true,
    "editable": true
   },
   "outputs": [],
   "source": [
    "np.random.seed(0)\n",
    "\n",
    "def binarize(x):\n",
    "    return np.sign(x)\n",
    "\n",
    "n_samples, n_features = 1000, 2\n",
    "X = np.random.randn(n_samples, n_features)\n",
    "w = np.random.randn(n_features)\n",
    "b = binarize(X.dot(w) + 0 * np.random.randn(n_samples))"
   ]
  },
  {
   "cell_type": "markdown",
   "metadata": {
    "deletable": true,
    "editable": true
   },
   "source": [
    "On définit aussi les fonctions de couts et gradient"
   ]
  },
  {
   "cell_type": "code",
   "execution_count": 3,
   "metadata": {
    "collapsed": false,
    "deletable": true,
    "editable": true
   },
   "outputs": [],
   "source": [
    "def f(theta, lam):\n",
    "    cost = 1-np.multiply(b,X.dot(theta))\n",
    "    cost[cost <= 0] = 0\n",
    "    return np.mean(cost) + lam * np.linalg.norm(theta, ord=1)\n",
    "\n",
    "\n",
    "def partial_grad(theta, i):\n",
    "    if b[i] * X[i].dot(theta) < 1:\n",
    "        return -b[i] * X[i]\n",
    "    return 0 * X[i] \n",
    "\n",
    "\n",
    "def grad(theta):\n",
    "    gradient = -np.multiply(b, X.T)\n",
    "    \n",
    "    gradient[:,np.multiply(b, X.dot(theta)) >= 1] = 0 * gradient[:,np.multiply(b, X.dot(theta)) >= 1]\n",
    "    \n",
    "    return np.mean(gradient, axis=1)"
   ]
  },
  {
   "cell_type": "markdown",
   "metadata": {},
   "source": [
    "et les différentes constantes :\n",
    "- pénalisation : lambda = 0.1\n",
    "- pas de descente : eta = 0.1\n",
    "- nombre d'itération : T = 200"
   ]
  },
  {
   "cell_type": "code",
   "execution_count": 4,
   "metadata": {
    "collapsed": true
   },
   "outputs": [],
   "source": [
    "lam = 0.1\n",
    "eta = 0.1\n",
    "T = 200"
   ]
  },
  {
   "cell_type": "markdown",
   "metadata": {
    "deletable": true,
    "editable": true
   },
   "source": [
    "<a id='section1'></a>\n",
    "Batch Proximal Gradient Descent"
   ]
  },
  {
   "cell_type": "code",
   "execution_count": 5,
   "metadata": {
    "collapsed": true,
    "deletable": true,
    "editable": true
   },
   "outputs": [],
   "source": [
    "def PGD(T, lam, eta):\n",
    "    # pas de la descente\n",
    "    # Lipschitz constant\n",
    "    #L = np.linalg.norm(X.T.dot(X))\n",
    "    #eta = 1. / L\n",
    "    \n",
    "    \n",
    "    # initialisation\n",
    "    theta = np.zeros(n_features)\n",
    "    \n",
    "    # historique de la fonction de perte\n",
    "    cost_history = np.empty(shape=[T])\n",
    "    \n",
    "    for t in range(0,T):\n",
    "        cost_history[t] = f(theta, lam)\n",
    "        \n",
    "        # compute gradient\n",
    "        gt = grad(theta)\n",
    "        \n",
    "        # compute prox\n",
    "        theta = theta - eta * gt - eta * lam * np.sign(theta)\n",
    "        \n",
    "        \n",
    "               \n",
    "    return theta, cost_history"
   ]
  },
  {
   "cell_type": "code",
   "execution_count": 6,
   "metadata": {
    "collapsed": false
   },
   "outputs": [
    {
     "name": "stdout",
     "output_type": "stream",
     "text": [
      "10 loops, best of 3: 41.3 ms per loop\n"
     ]
    }
   ],
   "source": [
    "%timeit PGD(T=T,lam=lam,eta=eta)"
   ]
  },
  {
   "cell_type": "code",
   "execution_count": 7,
   "metadata": {
    "collapsed": false,
    "deletable": true,
    "editable": true
   },
   "outputs": [],
   "source": [
    "theta, cost_history_PGD = PGD(T=T,lam=lam,eta=eta)"
   ]
  },
  {
   "cell_type": "code",
   "execution_count": 8,
   "metadata": {
    "collapsed": false,
    "deletable": true,
    "editable": true
   },
   "outputs": [
    {
     "name": "stdout",
     "output_type": "stream",
     "text": [
      "[-1.04200987 -1.20004418]\n",
      "[-1.53292105 -1.71197016]\n"
     ]
    }
   ],
   "source": [
    "print(theta)\n",
    "print(w)"
   ]
  },
  {
   "cell_type": "code",
   "execution_count": 9,
   "metadata": {
    "collapsed": false,
    "deletable": true,
    "editable": true
   },
   "outputs": [
    {
     "data": {
      "image/png": "[encoded data removed]",
      "text/plain": [
       "<matplotlib.figure.Figure at 0x7777c88>"
      ]
     },
     "metadata": {},
     "output_type": "display_data"
    }
   ],
   "source": [
    "plt.plot(cost_history_PGD, lw=4)\n",
    "plt.grid()\n",
    "#plt.yscale('log')\n",
    "plt.ylabel('Loss')\n",
    "plt.xlabel('Number of step')\n",
    "plt.show()"
   ]
  },
  {
   "cell_type": "markdown",
   "metadata": {
    "deletable": true,
    "editable": true
   },
   "source": [
    "On passe à l'accélération Nesterov"
   ]
  },
  {
   "cell_type": "code",
   "execution_count": 10,
   "metadata": {
    "collapsed": true,
    "deletable": true,
    "editable": true
   },
   "outputs": [],
   "source": [
    "def FISTA(T, lam, eta):\n",
    "    # pas de la descente\n",
    "    # Lipschitz constant\n",
    "    #L = np.linalg.norm(X.T.dot(X))\n",
    "    #eta = 1. / L\n",
    "    #eta = 0.1\n",
    "    st_moins2 = 1.\n",
    "    st_moins1 = 1.\n",
    "    st = 1.\n",
    "    \n",
    "    # initialisation\n",
    "    theta_moins1 = np.zeros(n_features)\n",
    "    theta = np.zeros(n_features)\n",
    "    theta_nesterov = np.zeros(n_features)\n",
    "    \n",
    "    # historique de la fonction de perte\n",
    "    cost_history = np.empty(shape=[T])\n",
    "    \n",
    "    for t in range(0,T):\n",
    "        cost_history[t] = f(theta, lam)\n",
    "        \n",
    "        # compute gradient\n",
    "        gt = grad(theta_nesterov)\n",
    "        \n",
    "        # compute st\n",
    "        st_moins2 = st_moins1\n",
    "        st_moins1 = st\n",
    "        st = (1 + np.sqrt(1 + 4 * st**2)) / 2 \n",
    "        \n",
    "        # compute prox\n",
    "        theta_moins1 = theta\n",
    "        theta = theta_nesterov - eta * gt - eta * lam * np.sign(theta_nesterov)\n",
    "        \n",
    "        # compute nestorov acceleration\n",
    "        theta_nesterov = theta + (st_moins2 / st_moins1) * (theta - theta_moins1)\n",
    "        \n",
    "        \n",
    "               \n",
    "    return theta_nesterov, cost_history"
   ]
  },
  {
   "cell_type": "code",
   "execution_count": 11,
   "metadata": {
    "collapsed": false
   },
   "outputs": [
    {
     "name": "stdout",
     "output_type": "stream",
     "text": [
      "10 loops, best of 3: 46.9 ms per loop\n"
     ]
    }
   ],
   "source": [
    "%timeit FISTA(T=T,lam=lam,eta=eta)"
   ]
  },
  {
   "cell_type": "code",
   "execution_count": 12,
   "metadata": {
    "collapsed": false,
    "deletable": true,
    "editable": true
   },
   "outputs": [],
   "source": [
    "theta, cost_history_FISTA = FISTA(T=T,lam=lam,eta=eta)"
   ]
  },
  {
   "cell_type": "code",
   "execution_count": 13,
   "metadata": {
    "collapsed": false,
    "deletable": true,
    "editable": true
   },
   "outputs": [
    {
     "name": "stdout",
     "output_type": "stream",
     "text": [
      "[-1.03056107 -1.19506636]\n",
      "[-1.53292105 -1.71197016]\n"
     ]
    }
   ],
   "source": [
    "print(theta)\n",
    "print(w)"
   ]
  },
  {
   "cell_type": "code",
   "execution_count": 14,
   "metadata": {
    "collapsed": false,
    "deletable": true,
    "editable": true
   },
   "outputs": [
    {
     "data": {
      "image/png": "[encoded data removed]",
      "text/plain": [
       "<matplotlib.figure.Figure at 0x79f36a0>"
      ]
     },
     "metadata": {},
     "output_type": "display_data"
    }
   ],
   "source": [
    "plt.plot(cost_history_FISTA, lw=4)\n",
    "plt.grid()\n",
    "#plt.yscale('log')\n",
    "plt.ylabel('Loss')\n",
    "plt.xlabel('Number of step')\n",
    "plt.show()"
   ]
  },
  {
   "cell_type": "markdown",
   "metadata": {
    "deletable": true,
    "editable": true
   },
   "source": [
    "<a id='section2'></a>\n",
    "SDCA"
   ]
  },
  {
   "cell_type": "markdown",
   "metadata": {
    "deletable": true,
    "editable": true
   },
   "source": [
    "Nous allons d'abord implémenter la version la plus classique de l'algorithme, avant de mettre en oeuvre les variantes et améliorations proposées dans http://www.jmlr.org/papers/volume14/shalev-shwartz13a/shalev-shwartz13a.pdf"
   ]
  },
  {
   "cell_type": "markdown",
   "metadata": {
    "deletable": true,
    "editable": true
   },
   "source": [
    "On définit les fonctions de coût (primal et dual) qui permettront de monitorer l'avancée de l'algorithme. (Remarque : la fonction P est identique que la fonction f définie plus haut, mais on décide de la redéfinir ici pour coller aux notations de l'article)"
   ]
  },
  {
   "cell_type": "code",
   "execution_count": 15,
   "metadata": {
    "collapsed": false,
    "deletable": true,
    "editable": true
   },
   "outputs": [],
   "source": [
    "#step_size = 1.0 / (3 * np.max((X * X).sum(1)))      #ici on travaille toujours avec un step_size constant\n",
    "\n",
    "\n",
    "def P(theta, lam):\n",
    "    cost = 1-np.multiply(b,X.dot(theta))\n",
    "    cost[cost <= 0] = 0\n",
    "    return np.mean(cost) + lam * np.linalg.norm(theta, ord=1)\n",
    "\n",
    "def D(alpha, lam):\n",
    "    cost = np.multiply(b,X.dot(theta))\n",
    "    cost[cost > 0] = np.nan\n",
    "    cost[cost < -1] = np.nan\n",
    "    return cost                    "
   ]
  },
  {
   "cell_type": "markdown",
   "metadata": {
    "deletable": true,
    "editable": true
   },
   "source": [
    "### SDCA classique"
   ]
  },
  {
   "cell_type": "code",
   "execution_count": 16,
   "metadata": {
    "collapsed": false,
    "deletable": true,
    "editable": true
   },
   "outputs": [],
   "source": [
    "def SDCA(T, lam, eta):\n",
    "    alpha = np.zeros(n_samples)\n",
    "    w = (1/(lam*n_samples))*np.dot(X.T,alpha)\n",
    "    \n",
    "    grad_history = np.empty(shape=[T])\n",
    "    cost_history = np.empty(shape=[T])\n",
    "    \n",
    "    for t in range(0,T):\n",
    "        cost_history[t] = P(w, lam)\n",
    "        \n",
    "        # .. pick random sample ..\n",
    "        idx = np.random.randint(0, n_samples)\n",
    "        \n",
    "        # on calcule les constantes A et B (utiles pour la résolution du delta alpha i)\n",
    "        A = (1/(lam*n_samples)) * np.linalg.norm(X[idx])**2\n",
    "        B = X[idx].T.dot(w)    \n",
    "        \n",
    "        y_i = b[idx]\n",
    "        delta_alpha_i_tilde = (y_i-B)/A        \n",
    "        delta_alpha_i = y_i * np.clip(y_i*(delta_alpha_i_tilde + alpha[idx]), a_min=0, a_max=1) - alpha[idx]\n",
    "        \n",
    "        alpha[idx] = alpha[idx] + delta_alpha_i\n",
    "    \n",
    "        w = (1/(lam*n_samples))*np.dot(X.T,alpha)\n",
    "        \n",
    "\n",
    "        \n",
    "        \n",
    "    return w, cost_history\n",
    "        "
   ]
  },
  {
   "cell_type": "code",
   "execution_count": 17,
   "metadata": {
    "collapsed": false
   },
   "outputs": [
    {
     "name": "stdout",
     "output_type": "stream",
     "text": [
      "The slowest run took 4.96 times longer than the fastest. This could mean that an intermediate result is being cached.\n",
      "10 loops, best of 3: 15 ms per loop\n"
     ]
    }
   ],
   "source": [
    "%timeit SDCA(T=T,lam=lam,eta=eta)"
   ]
  },
  {
   "cell_type": "code",
   "execution_count": 18,
   "metadata": {
    "collapsed": true,
    "deletable": true,
    "editable": true
   },
   "outputs": [],
   "source": [
    "theta, cost_history_SDCA = SDCA(T=T,lam=lam,eta=eta)"
   ]
  },
  {
   "cell_type": "code",
   "execution_count": 19,
   "metadata": {
    "collapsed": false
   },
   "outputs": [
    {
     "name": "stdout",
     "output_type": "stream",
     "text": [
      "[-0.60075511 -0.78416373]\n",
      "[-1.53292105 -1.71197016]\n"
     ]
    }
   ],
   "source": [
    "print(theta)\n",
    "print(w)"
   ]
  },
  {
   "cell_type": "code",
   "execution_count": 20,
   "metadata": {
    "collapsed": false,
    "deletable": true,
    "editable": true
   },
   "outputs": [
    {
     "data": {
      "image/png": "[encoded data removed]",
      "text/plain": [
       "<matplotlib.figure.Figure at 0x7c76e80>"
      ]
     },
     "metadata": {},
     "output_type": "display_data"
    }
   ],
   "source": [
    "plt.plot(cost_history_SDCA, lw=4)\n",
    "plt.grid()\n",
    "#plt.yscale('log')\n",
    "plt.ylabel('Function suboptimality')\n",
    "plt.xlabel('Number of epochs')\n",
    "plt.show()"
   ]
  },
  {
   "cell_type": "markdown",
   "metadata": {
    "collapsed": true,
    "deletable": true,
    "editable": true
   },
   "source": [
    "## SCDA avec SGD initilisation"
   ]
  },
  {
   "cell_type": "markdown",
   "metadata": {
    "collapsed": false,
    "deletable": true,
    "editable": true
   },
   "source": [
    "..."
   ]
  },
  {
   "cell_type": "markdown",
   "metadata": {
    "deletable": true,
    "editable": true
   },
   "source": [
    "<a id='section3'></a>\n",
    "SVRG"
   ]
  },
  {
   "cell_type": "code",
   "execution_count": 21,
   "metadata": {
    "collapsed": false,
    "deletable": true,
    "editable": true
   },
   "outputs": [],
   "source": [
    "def SVRG(T, m, lam, eta):\n",
    "    # initialisation\n",
    "    theta_hat = np.zeros(n_features)\n",
    "    \n",
    "    # historique de la fonction de perte\n",
    "    cost_history = np.empty(shape=[T])\n",
    "    \n",
    "    for t in range(0,T): \n",
    "        cost_history[t] = f(theta_hat, lam)\n",
    "        \n",
    "        # vrai gradient\n",
    "        g_hat = grad(theta_hat)\n",
    "    \n",
    "        theta = np.zeros([m+1, n_features])\n",
    "        theta[0,:] = theta_hat\n",
    "        for k in range(0,m):\n",
    "            # random sample an indice\n",
    "            idx = np.random.randint(0, n_samples) \n",
    "\n",
    "            # compute variance reduced gradient\n",
    "            g = partial_grad(theta[k], idx) - partial_grad(theta_hat, idx) + g_hat\n",
    "\n",
    "            # compute prox\n",
    "            theta[k+1] = theta[k] - eta * g - eta * lam * np.sign(theta[k])\n",
    "        \n",
    "        # on retire la première ligne\n",
    "        theta = theta[1:]\n",
    "        \n",
    "        theta_hat = np.mean(theta, axis=0)\n",
    "        \n",
    "        \n",
    "               \n",
    "    return theta_hat, cost_history"
   ]
  },
  {
   "cell_type": "code",
   "execution_count": 22,
   "metadata": {
    "collapsed": false
   },
   "outputs": [
    {
     "name": "stdout",
     "output_type": "stream",
     "text": [
      "10 loops, best of 3: 96.7 ms per loop\n"
     ]
    }
   ],
   "source": [
    "%timeit SVRG(T=T,m=10,lam=lam,eta=eta)"
   ]
  },
  {
   "cell_type": "code",
   "execution_count": 23,
   "metadata": {
    "collapsed": false,
    "deletable": true,
    "editable": true
   },
   "outputs": [],
   "source": [
    "theta, cost_history_SVRG = SVRG(T=T, m=10, lam=lam, eta=eta)"
   ]
  },
  {
   "cell_type": "code",
   "execution_count": 24,
   "metadata": {
    "collapsed": false,
    "deletable": true,
    "editable": true,
    "scrolled": false
   },
   "outputs": [
    {
     "name": "stdout",
     "output_type": "stream",
     "text": [
      "[-1.06441504 -1.22553445]\n",
      "[-1.53292105 -1.71197016]\n"
     ]
    }
   ],
   "source": [
    "print(theta)\n",
    "print(w)"
   ]
  },
  {
   "cell_type": "code",
   "execution_count": 25,
   "metadata": {
    "collapsed": false,
    "deletable": true,
    "editable": true
   },
   "outputs": [
    {
     "data": {
      "image/png": "[encoded data removed]",
      "text/plain": [
       "<matplotlib.figure.Figure at 0x79e70f0>"
      ]
     },
     "metadata": {},
     "output_type": "display_data"
    }
   ],
   "source": [
    "plt.plot(cost_history_SVRG, lw=4)\n",
    "plt.grid()\n",
    "#plt.yscale('log')\n",
    "plt.ylabel('Loss')\n",
    "plt.xlabel('Number of step')\n",
    "plt.show()"
   ]
  },
  {
   "cell_type": "markdown",
   "metadata": {
    "collapsed": true,
    "deletable": true,
    "editable": true
   },
   "source": [
    "<a id='section4'></a>\n",
    "SAGA"
   ]
  },
  {
   "cell_type": "code",
   "execution_count": 26,
   "metadata": {
    "collapsed": false,
    "deletable": true,
    "editable": true
   },
   "outputs": [],
   "source": [
    "def SAGA(T, lam, eta):\n",
    "    # initialisation\n",
    "    theta = np.zeros(n_features)\n",
    "    \n",
    "    gi_hat = np.zeros([n_samples, n_features])\n",
    "    g_bar = np.zeros(n_features)\n",
    "    \n",
    "    # historique de la fonction de perte\n",
    "    cost_history = np.empty(shape=[T])\n",
    "    \n",
    "    for t in range(0,T): \n",
    "        cost_history[t] = f(theta, lam)\n",
    "        \n",
    "        # random sample an indice\n",
    "        idx = np.random.randint(0, n_samples) \n",
    "        \n",
    "        gi = partial_grad(theta, idx)\n",
    "        \n",
    "        # estimate gradient\n",
    "        g_hat = gi - gi_hat[idx] + g_bar\n",
    "        \n",
    "        # update average gradient\n",
    "        g_bar = g_bar + (1./n_samples) * (gi - gi_hat[idx])\n",
    "        \n",
    "        # update stored gradient\n",
    "        gi_hat[idx] = gi\n",
    "        \n",
    "        # compute prox\n",
    "        theta = theta - eta * g_hat - eta * lam * np.sign(theta)\n",
    "            \n",
    "               \n",
    "    return theta, cost_history"
   ]
  },
  {
   "cell_type": "code",
   "execution_count": 27,
   "metadata": {
    "collapsed": false
   },
   "outputs": [
    {
     "name": "stdout",
     "output_type": "stream",
     "text": [
      "10 loops, best of 3: 15.8 ms per loop\n"
     ]
    }
   ],
   "source": [
    "%timeit SAGA(T=T,lam=lam,eta=eta)"
   ]
  },
  {
   "cell_type": "code",
   "execution_count": 28,
   "metadata": {
    "collapsed": false,
    "deletable": true,
    "editable": true
   },
   "outputs": [],
   "source": [
    "theta, cost_history_SAGA = SAGA(T=T, lam=lam, eta=eta)"
   ]
  },
  {
   "cell_type": "code",
   "execution_count": 29,
   "metadata": {
    "collapsed": false,
    "deletable": true,
    "editable": true,
    "scrolled": false
   },
   "outputs": [
    {
     "name": "stdout",
     "output_type": "stream",
     "text": [
      "[-0.96692682 -1.28079646]\n",
      "[-1.53292105 -1.71197016]\n"
     ]
    }
   ],
   "source": [
    "print(theta)\n",
    "print(w)"
   ]
  },
  {
   "cell_type": "code",
   "execution_count": 30,
   "metadata": {
    "collapsed": false,
    "deletable": true,
    "editable": true
   },
   "outputs": [
    {
     "data": {
      "image/png": "[encoded data removed]",
      "text/plain": [
       "<matplotlib.figure.Figure at 0x85c7470>"
      ]
     },
     "metadata": {},
     "output_type": "display_data"
    }
   ],
   "source": [
    "plt.plot(cost_history_SAGA, lw=4)\n",
    "plt.grid()\n",
    "#plt.yscale('log')\n",
    "plt.ylabel('Loss')\n",
    "plt.xlabel('Number of step')\n",
    "plt.show()"
   ]
  },
  {
   "cell_type": "markdown",
   "metadata": {
    "collapsed": true,
    "deletable": true,
    "editable": true
   },
   "source": [
    "<a id='section5'></a>\n",
    "Comparaison des algorithmes"
   ]
  },
  {
   "cell_type": "code",
   "execution_count": 31,
   "metadata": {
    "collapsed": false
   },
   "outputs": [
    {
     "data": {
      "image/png": "[encoded data removed]",
      "text/plain": [
       "<matplotlib.figure.Figure at 0x7ec94a8>"
      ]
     },
     "metadata": {},
     "output_type": "display_data"
    }
   ],
   "source": [
    "plt.plot(cost_history_PGD, lw=4, label='Prox grad descent')\n",
    "plt.plot(cost_history_FISTA, lw=4, label='FISTA')\n",
    "plt.plot(cost_history_SDCA, lw=4, label='SDCA')\n",
    "plt.plot(cost_history_SVRG, lw=4, label='SVRG')\n",
    "plt.plot(cost_history_SAGA, lw=4, label='SAGA')\n",
    "plt.grid()\n",
    "#plt.yscale('log')\n",
    "plt.ylabel('Loss')\n",
    "plt.xlabel('Number of step')\n",
    "plt.legend(bbox_to_anchor=(1.05, 1), loc=2, borderaxespad=0.)\n",
    "plt.show()"
   ]
  },
  {
   "cell_type": "code",
   "execution_count": null,
   "metadata": {
    "collapsed": true
   },
   "outputs": [],
   "source": []
  }
 ],
 "metadata": {
  "kernelspec": {
   "display_name": "Python 2",
   "language": "python",
   "name": "python2"
  },
  "language_info": {
   "codemirror_mode": {
    "name": "ipython",
    "version": 2
   },
   "file_extension": ".py",
   "mimetype": "text/x-python",
   "name": "python",
   "nbconvert_exporter": "python",
   "pygments_lexer": "ipython2",
   "version": "2.7.13"
  }
 },
 "nbformat": 4,
 "nbformat_minor": 2
}
