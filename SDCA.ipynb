{
 "cells": [
  {
   "cell_type": "markdown",
   "metadata": {
    "deletable": true,
    "editable": true
   },
   "source": [
    "# Projet optimisation : algorithme SDCA"
   ]
  },
  {
   "cell_type": "markdown",
   "metadata": {},
   "source": [
    "Plan que je propose : \n",
    "\n",
    "On va se concentrer sur l'algorithme SVM avec régularisation LASSO. Etant donné que nous sommes exceptionnellement un groupe constitué de trois personnes, nous vous proposons le sujet 1 enrichi avec le sujet 3. Concrètement, nous allons implémenter 4 méthodes d'optimisations, puis les comparer sur la base de données ... (à choisir) :\n",
    "- Batch Proximal Gradient Descent (primal)\n",
    "- SDCA (avec eventuellement quelques optimisations présentées dans l'article)\n",
    "- SVRG\n",
    "- SAGA"
   ]
  },
  {
   "cell_type": "markdown",
   "metadata": {
    "deletable": true,
    "editable": true
   },
   "source": [
    "Nous allons d'abord implémenter la version la plus classique de l'algorithme, avant de mettre en oeuvre les variantes et améliorations proposées dans http://www.jmlr.org/papers/volume14/shalev-shwartz13a/shalev-shwartz13a.pdf"
   ]
  },
  {
   "cell_type": "code",
   "execution_count": 1,
   "metadata": {
    "collapsed": false,
    "deletable": true,
    "editable": true
   },
   "outputs": [
    {
     "name": "stdout",
     "output_type": "stream",
     "text": [
      "Populating the interactive namespace from numpy and matplotlib\n"
     ]
    }
   ],
   "source": [
    "%pylab inline\n",
    "import numpy as np"
   ]
  },
  {
   "cell_type": "markdown",
   "metadata": {
    "deletable": true,
    "editable": true
   },
   "source": [
    "On commence par définir notre jeu de données de test, ainsi que les fonctions de coût (primal et dual) qui permettront de monitorer l'avancée de l'algorithme"
   ]
  },
  {
   "cell_type": "code",
   "execution_count": 2,
   "metadata": {
    "collapsed": false,
    "deletable": true,
    "editable": true
   },
   "outputs": [],
   "source": [
    "np.random.seed(0)\n",
    "\n",
    "def binarize(x):\n",
    "    return np.sign(x)\n",
    "\n",
    "n_samples, n_features = 5000, 40\n",
    "X = np.random.randn(n_samples, n_features)\n",
    "w = np.random.randn(n_features)\n",
    "b = binarize(X.dot(w) + np.random.randn(n_samples))\n",
    "step_size = 1.0 / (3 * np.max((X * X).sum(1)))      #ici on travaille toujours avec un step_size constant\n",
    "\n",
    "\n",
    "def P(theta, lam):\n",
    "    cost = 1-np.multiply(b,X.dot(theta))\n",
    "    cost[cost <= 0] = 0\n",
    "    return np.mean(cost) + (lam/2)*np.linalg.norm(theta)**2\n",
    "\n",
    "def D(alpha, lam):\n",
    "    cost = np.multiply(b,X.dot(theta))\n",
    "    cost[cost > 0] = np.nan\n",
    "    cost[cost < -1] = np.nan\n",
    "    return cost                    "
   ]
  },
  {
   "cell_type": "markdown",
   "metadata": {
    "deletable": true,
    "editable": true
   },
   "source": [
    "## SCDA classique"
   ]
  },
  {
   "cell_type": "code",
   "execution_count": 3,
   "metadata": {
    "collapsed": false,
    "deletable": true,
    "editable": true
   },
   "outputs": [],
   "source": [
    "def SDCA(T, lam):\n",
    "    alpha = np.zeros(n_samples)\n",
    "    w = (1/(lam*n_samples))*np.dot(X.T,alpha)\n",
    "    \n",
    "    grad_history = np.empty(shape=[T/100])\n",
    "    cost_history = np.empty(shape=[T/100])\n",
    "    \n",
    "    for t in range(0,T):\n",
    "        # .. pick random sample ..\n",
    "        idx = np.random.randint(0, n_samples)\n",
    "        \n",
    "        # on calcule les constantes A et B (utiles pour la résolution du delta alpha i)\n",
    "        A = (1/(lam*n_samples)) * np.linalg.norm(X[idx])**2\n",
    "        B = X[idx].T.dot(w)    \n",
    "        \n",
    "        y_i = b[idx]\n",
    "        delta_alpha_i_tilde = (y_i-B)/A        \n",
    "        delta_alpha_i = y_i * np.clip(y_i*(delta_alpha_i_tilde + alpha[idx]), a_min=0, a_max=1) - alpha[idx]\n",
    "        \n",
    "        alpha[idx] = alpha[idx] + delta_alpha_i\n",
    "    \n",
    "        w = (1/(lam*n_samples))*np.dot(X.T,alpha)\n",
    "        \n",
    "        if t % 100 == 0: \n",
    "            grad_history[t/100] = delta_alpha_i\n",
    "            cost_history[t/100] = P(w, lam)\n",
    "        \n",
    "    return w, grad_history, cost_history\n",
    "        "
   ]
  },
  {
   "cell_type": "code",
   "execution_count": 4,
   "metadata": {
    "collapsed": false,
    "deletable": true,
    "editable": true
   },
   "outputs": [],
   "source": [
    "theta, grad_history, cost_history = SDCA(1000,step_size)"
   ]
  },
  {
   "cell_type": "code",
   "execution_count": 5,
   "metadata": {
    "collapsed": false,
    "deletable": true,
    "editable": true
   },
   "outputs": [
    {
     "data": {
      "image/png": "[encoded data removed]",
      "text/plain": [
       "<matplotlib.figure.Figure at 0x777a6d8>"
      ]
     },
     "metadata": {},
     "output_type": "display_data"
    }
   ],
   "source": [
    "plt.plot(grad_history, lw=4)\n",
    "plt.grid()\n",
    "#plt.yscale('log')\n",
    "plt.ylabel('Function suboptimality')\n",
    "plt.xlabel('Number of epochs')\n",
    "plt.show()"
   ]
  },
  {
   "cell_type": "code",
   "execution_count": 6,
   "metadata": {
    "collapsed": false,
    "deletable": true,
    "editable": true
   },
   "outputs": [
    {
     "data": {
      "image/png": "[encoded data removed]",
      "text/plain": [
       "<matplotlib.figure.Figure at 0x78a3320>"
      ]
     },
     "metadata": {},
     "output_type": "display_data"
    }
   ],
   "source": [
    "plt.plot(cost_history, lw=4)\n",
    "plt.grid()\n",
    "#plt.yscale('log')\n",
    "plt.ylabel('Function suboptimality')\n",
    "plt.xlabel('Number of epochs')\n",
    "plt.show()"
   ]
  },
  {
   "cell_type": "markdown",
   "metadata": {
    "collapsed": true,
    "deletable": true,
    "editable": true
   },
   "source": [
    "## SCDA avec SGD initilisation"
   ]
  },
  {
   "cell_type": "code",
   "execution_count": 7,
   "metadata": {
    "collapsed": false,
    "deletable": true,
    "editable": true
   },
   "outputs": [
    {
     "ename": "SyntaxError",
     "evalue": "invalid syntax (<ipython-input-7-ed20d984b757>, line 1)",
     "output_type": "error",
     "traceback": [
      "\u001b[0;36m  File \u001b[0;32m\"<ipython-input-7-ed20d984b757>\"\u001b[0;36m, line \u001b[0;32m1\u001b[0m\n\u001b[0;31m    ...\u001b[0m\n\u001b[0m    ^\u001b[0m\n\u001b[0;31mSyntaxError\u001b[0m\u001b[0;31m:\u001b[0m invalid syntax\n"
     ]
    }
   ],
   "source": [
    "..."
   ]
  }
 ],
 "metadata": {
  "kernelspec": {
   "display_name": "Python 2",
   "language": "python",
   "name": "python2"
  },
  "language_info": {
   "codemirror_mode": {
    "name": "ipython",
    "version": 2
   },
   "file_extension": ".py",
   "mimetype": "text/x-python",
   "name": "python",
   "nbconvert_exporter": "python",
   "pygments_lexer": "ipython2",
   "version": "2.7.13"
  }
 },
 "nbformat": 4,
 "nbformat_minor": 2
}
